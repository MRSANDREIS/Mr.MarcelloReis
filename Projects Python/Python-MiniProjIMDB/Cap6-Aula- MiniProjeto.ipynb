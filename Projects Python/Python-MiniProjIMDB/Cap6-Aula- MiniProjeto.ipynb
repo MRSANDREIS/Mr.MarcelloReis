{
 "cells": [
  {
   "cell_type": "markdown",
   "id": "2ec78314",
   "metadata": {},
   "source": [
    "#Guia Mini projeto- Dados exploratorios com Python e SQL\n",
    "Vamos Apresentar um guia basico de analise exploratoria de dados -usando linguagem Python,linguagem sql e Bdsqlite.\n",
    "Usaremos dados reais e disponiveis publicamente , dados sobre filmedo site IMDB\n",
    "guias avançados de Analise Exploratoria de dados.\n",
    "\n",
    "\n",
    "\n",
    "-Questionamentos  a serem Respondindos\n",
    "\n",
    "1- Quais sao as categorias de filmes  mais comuns do IMDB?\n",
    "2- Qual o numero de titulos por genero?\n",
    "3- Qual a mediana de avaliação dos filmes por genero?\n",
    "4- Qual a mediana de avaliação dos filmes em relaçãoaoano de estreia?\n",
    "5- Qual numero de filmes avaliados por genero em relação ao ano e estreia?\n",
    "6- Qual o filme com maior tempode duração ? caulcule os percentis.\n",
    "7- Qual relação entre duração e genero?\n",
    "8- Qual o numero de filmes produzidos?\n",
    "9- Quais sao os tops 10 melhores filmes?\n",
    "10-Quais sao os 10 piores filmes?  \n"
   ]
  },
  {
   "cell_type": "code",
   "execution_count": 1,
   "id": "3e51a42b",
   "metadata": {},
   "outputs": [
    {
     "name": "stdout",
     "output_type": "stream",
     "text": [
      "Versao da linguagem python usada neste Jupyter Notebook é: 3.9.12\n"
     ]
    }
   ],
   "source": [
    "# Verificando a versão python\n",
    "from platform import python_version\n",
    "print(\"Versao da linguagem python usada neste Jupyter Notebook é:\",python_version() )"
   ]
  },
  {
   "cell_type": "markdown",
   "id": "534576f3",
   "metadata": {},
   "source": [
    "https://pypi.org/\n",
    "    \n",
    "https://pypi.org/projects/imdb-sqlite/"
   ]
  },
  {
   "cell_type": "code",
   "execution_count": 2,
   "id": "b9407206",
   "metadata": {},
   "outputs": [],
   "source": [
    "# Instalar os pacotes necessarios para projeto\n",
    "# Ao ser executado sera realizado download do dataset\n",
    "!pip install -q imdb-sqlite  "
   ]
  },
  {
   "cell_type": "code",
   "execution_count": 3,
   "id": "f0984004",
   "metadata": {},
   "outputs": [],
   "source": [
    "# Instalar outro pacote\n",
    "#https://pypi.org/project/pycountry/\n",
    "!pip install -q pycountry"
   ]
  },
  {
   "cell_type": "code",
   "execution_count": 4,
   "id": "6875e2b3",
   "metadata": {},
   "outputs": [],
   "source": [
    "import sqlite3"
   ]
  },
  {
   "cell_type": "code",
   "execution_count": 5,
   "id": "08ea2b77",
   "metadata": {},
   "outputs": [],
   "source": [
    "# Agora vamos fazer os imports\n",
    "\n",
    "import re  \n",
    "# Pacote de expressoes regulares qdo precisamos , processar textos\n",
    "import time\n",
    "# medir tempo de execusao ou ser usados datas \n",
    "import pycountry \n",
    "# paises e cidades iso\n",
    "import numpy as np \n",
    "# pacote usado para manipulacao de dados em python\n",
    "import pandas as pd \n",
    "# pacote usado para manipulacao de dados em python\n",
    "import matplotlib.pyplot as plt \n",
    "# Para visualização de dados python\n",
    "from matplotlib import cm\n",
    "import seaborn as sns \n",
    "# Para visualização de dados Python\n",
    "from sklearn.feature_extraction .text import CountVectorizer \n",
    "# Pacote para machine learning python\n",
    "import warnings  \n",
    "# pacote que da algum alerta algum problema , mas puli demais o jupyter\n",
    "warnings.filterwarnings('ignore')\n",
    "# Filtrando o warnings\n",
    "sns.set_theme(style=\"whitegrid\")\n",
    "# Filtrando o tipo de grafico que desejo no projeto, sera defundo branco com linhas verticais\n",
    "\n",
    "# Ao executar carregara todos os pacotes , se der erro pode ser porque nao esteja usando anaconda.\n",
    "#todos esses pacotes tem no anaconda\n"
   ]
  },
  {
   "cell_type": "code",
   "execution_count": 6,
   "id": "a04114aa",
   "metadata": {},
   "outputs": [
    {
     "name": "stderr",
     "output_type": "stream",
     "text": [
      "2022-08-09 10:40:26,571 DB already exists: (imdb.db). Refusing to modify. Exiting\n"
     ]
    }
   ],
   "source": [
    "# Carregando os dados \n",
    "#Primeiro temos que baixar os dados \n",
    "\n",
    "!imdb-sqlite"
   ]
  },
  {
   "cell_type": "code",
   "execution_count": 7,
   "id": "ee8901ce",
   "metadata": {},
   "outputs": [],
   "source": [
    "# Conetando ao BD\n",
    "conn = sqlite3.connect(\"imdb.db\")"
   ]
  },
  {
   "cell_type": "code",
   "execution_count": 8,
   "id": "d35b08e0",
   "metadata": {},
   "outputs": [],
   "source": [
    "# Extrair lista de tabelas\n",
    "tabelas = pd.read_sql_query(\"SELECT NAME AS'TABLE_NAME'FROM sqlite_master WHERE type='table'\",conn)"
   ]
  },
  {
   "cell_type": "code",
   "execution_count": 9,
   "id": "766a98fa",
   "metadata": {},
   "outputs": [
    {
     "data": {
      "text/plain": [
       "pandas.core.frame.DataFrame"
      ]
     },
     "execution_count": 9,
     "metadata": {},
     "output_type": "execute_result"
    }
   ],
   "source": [
    "# tipo do objeto\n",
    "type(tabelas)"
   ]
  },
  {
   "cell_type": "code",
   "execution_count": 10,
   "id": "4a618a47",
   "metadata": {},
   "outputs": [
    {
     "data": {
      "text/html": [
       "<div>\n",
       "<style scoped>\n",
       "    .dataframe tbody tr th:only-of-type {\n",
       "        vertical-align: middle;\n",
       "    }\n",
       "\n",
       "    .dataframe tbody tr th {\n",
       "        vertical-align: top;\n",
       "    }\n",
       "\n",
       "    .dataframe thead th {\n",
       "        text-align: right;\n",
       "    }\n",
       "</style>\n",
       "<table border=\"1\" class=\"dataframe\">\n",
       "  <thead>\n",
       "    <tr style=\"text-align: right;\">\n",
       "      <th></th>\n",
       "      <th>TABLE_NAME</th>\n",
       "    </tr>\n",
       "  </thead>\n",
       "  <tbody>\n",
       "    <tr>\n",
       "      <th>0</th>\n",
       "      <td>people</td>\n",
       "    </tr>\n",
       "    <tr>\n",
       "      <th>1</th>\n",
       "      <td>titles</td>\n",
       "    </tr>\n",
       "    <tr>\n",
       "      <th>2</th>\n",
       "      <td>akas</td>\n",
       "    </tr>\n",
       "    <tr>\n",
       "      <th>3</th>\n",
       "      <td>crew</td>\n",
       "    </tr>\n",
       "    <tr>\n",
       "      <th>4</th>\n",
       "      <td>episodes</td>\n",
       "    </tr>\n",
       "  </tbody>\n",
       "</table>\n",
       "</div>"
      ],
      "text/plain": [
       "  TABLE_NAME\n",
       "0     people\n",
       "1     titles\n",
       "2       akas\n",
       "3       crew\n",
       "4   episodes"
      ]
     },
     "execution_count": 10,
     "metadata": {},
     "output_type": "execute_result"
    }
   ],
   "source": [
    "# Visualiza os resultados\n",
    "tabelas.head()\n"
   ]
  },
  {
   "cell_type": "code",
   "execution_count": 11,
   "id": "f86ed377",
   "metadata": {},
   "outputs": [],
   "source": [
    "# Convertendo o dataframe para lista\n",
    "tabelas = tabelas['TABLE_NAME'].values.tolist()"
   ]
  },
  {
   "cell_type": "code",
   "execution_count": 12,
   "id": "57657f58",
   "metadata": {},
   "outputs": [
    {
     "name": "stdout",
     "output_type": "stream",
     "text": [
      "Esquema da tabela: people\n"
     ]
    },
    {
     "data": {
      "text/html": [
       "<div>\n",
       "<style scoped>\n",
       "    .dataframe tbody tr th:only-of-type {\n",
       "        vertical-align: middle;\n",
       "    }\n",
       "\n",
       "    .dataframe tbody tr th {\n",
       "        vertical-align: top;\n",
       "    }\n",
       "\n",
       "    .dataframe thead th {\n",
       "        text-align: right;\n",
       "    }\n",
       "</style>\n",
       "<table border=\"1\" class=\"dataframe\">\n",
       "  <thead>\n",
       "    <tr style=\"text-align: right;\">\n",
       "      <th></th>\n",
       "      <th>cid</th>\n",
       "      <th>name</th>\n",
       "      <th>type</th>\n",
       "      <th>notnull</th>\n",
       "      <th>dflt_value</th>\n",
       "      <th>pk</th>\n",
       "    </tr>\n",
       "  </thead>\n",
       "  <tbody>\n",
       "    <tr>\n",
       "      <th>0</th>\n",
       "      <td>0</td>\n",
       "      <td>person_id</td>\n",
       "      <td>VARCHAR</td>\n",
       "      <td>0</td>\n",
       "      <td>None</td>\n",
       "      <td>1</td>\n",
       "    </tr>\n",
       "    <tr>\n",
       "      <th>1</th>\n",
       "      <td>1</td>\n",
       "      <td>name</td>\n",
       "      <td>VARCHAR</td>\n",
       "      <td>0</td>\n",
       "      <td>None</td>\n",
       "      <td>0</td>\n",
       "    </tr>\n",
       "    <tr>\n",
       "      <th>2</th>\n",
       "      <td>2</td>\n",
       "      <td>born</td>\n",
       "      <td>INTEGER</td>\n",
       "      <td>0</td>\n",
       "      <td>None</td>\n",
       "      <td>0</td>\n",
       "    </tr>\n",
       "    <tr>\n",
       "      <th>3</th>\n",
       "      <td>3</td>\n",
       "      <td>died</td>\n",
       "      <td>INTEGER</td>\n",
       "      <td>0</td>\n",
       "      <td>None</td>\n",
       "      <td>0</td>\n",
       "    </tr>\n",
       "  </tbody>\n",
       "</table>\n",
       "</div>"
      ],
      "text/plain": [
       "   cid       name     type  notnull dflt_value  pk\n",
       "0    0  person_id  VARCHAR        0       None   1\n",
       "1    1       name  VARCHAR        0       None   0\n",
       "2    2       born  INTEGER        0       None   0\n",
       "3    3       died  INTEGER        0       None   0"
      ]
     },
     "metadata": {},
     "output_type": "display_data"
    },
    {
     "name": "stdout",
     "output_type": "stream",
     "text": [
      "____________________________________________________________________________________________________\n",
      "\n",
      "\n",
      "Esquema da tabela: titles\n"
     ]
    },
    {
     "data": {
      "text/html": [
       "<div>\n",
       "<style scoped>\n",
       "    .dataframe tbody tr th:only-of-type {\n",
       "        vertical-align: middle;\n",
       "    }\n",
       "\n",
       "    .dataframe tbody tr th {\n",
       "        vertical-align: top;\n",
       "    }\n",
       "\n",
       "    .dataframe thead th {\n",
       "        text-align: right;\n",
       "    }\n",
       "</style>\n",
       "<table border=\"1\" class=\"dataframe\">\n",
       "  <thead>\n",
       "    <tr style=\"text-align: right;\">\n",
       "      <th></th>\n",
       "      <th>cid</th>\n",
       "      <th>name</th>\n",
       "      <th>type</th>\n",
       "      <th>notnull</th>\n",
       "      <th>dflt_value</th>\n",
       "      <th>pk</th>\n",
       "    </tr>\n",
       "  </thead>\n",
       "  <tbody>\n",
       "    <tr>\n",
       "      <th>0</th>\n",
       "      <td>0</td>\n",
       "      <td>title_id</td>\n",
       "      <td>VARCHAR</td>\n",
       "      <td>0</td>\n",
       "      <td>None</td>\n",
       "      <td>1</td>\n",
       "    </tr>\n",
       "    <tr>\n",
       "      <th>1</th>\n",
       "      <td>1</td>\n",
       "      <td>type</td>\n",
       "      <td>VARCHAR</td>\n",
       "      <td>0</td>\n",
       "      <td>None</td>\n",
       "      <td>0</td>\n",
       "    </tr>\n",
       "    <tr>\n",
       "      <th>2</th>\n",
       "      <td>2</td>\n",
       "      <td>primary_title</td>\n",
       "      <td>VARCHAR</td>\n",
       "      <td>0</td>\n",
       "      <td>None</td>\n",
       "      <td>0</td>\n",
       "    </tr>\n",
       "    <tr>\n",
       "      <th>3</th>\n",
       "      <td>3</td>\n",
       "      <td>original_title</td>\n",
       "      <td>VARCHAR</td>\n",
       "      <td>0</td>\n",
       "      <td>None</td>\n",
       "      <td>0</td>\n",
       "    </tr>\n",
       "    <tr>\n",
       "      <th>4</th>\n",
       "      <td>4</td>\n",
       "      <td>is_adult</td>\n",
       "      <td>INTEGER</td>\n",
       "      <td>0</td>\n",
       "      <td>None</td>\n",
       "      <td>0</td>\n",
       "    </tr>\n",
       "    <tr>\n",
       "      <th>5</th>\n",
       "      <td>5</td>\n",
       "      <td>premiered</td>\n",
       "      <td>INTEGER</td>\n",
       "      <td>0</td>\n",
       "      <td>None</td>\n",
       "      <td>0</td>\n",
       "    </tr>\n",
       "    <tr>\n",
       "      <th>6</th>\n",
       "      <td>6</td>\n",
       "      <td>ended</td>\n",
       "      <td>INTEGER</td>\n",
       "      <td>0</td>\n",
       "      <td>None</td>\n",
       "      <td>0</td>\n",
       "    </tr>\n",
       "    <tr>\n",
       "      <th>7</th>\n",
       "      <td>7</td>\n",
       "      <td>runtime_minutes</td>\n",
       "      <td>INTEGER</td>\n",
       "      <td>0</td>\n",
       "      <td>None</td>\n",
       "      <td>0</td>\n",
       "    </tr>\n",
       "    <tr>\n",
       "      <th>8</th>\n",
       "      <td>8</td>\n",
       "      <td>genres</td>\n",
       "      <td>VARCHAR</td>\n",
       "      <td>0</td>\n",
       "      <td>None</td>\n",
       "      <td>0</td>\n",
       "    </tr>\n",
       "  </tbody>\n",
       "</table>\n",
       "</div>"
      ],
      "text/plain": [
       "   cid             name     type  notnull dflt_value  pk\n",
       "0    0         title_id  VARCHAR        0       None   1\n",
       "1    1             type  VARCHAR        0       None   0\n",
       "2    2    primary_title  VARCHAR        0       None   0\n",
       "3    3   original_title  VARCHAR        0       None   0\n",
       "4    4         is_adult  INTEGER        0       None   0\n",
       "5    5        premiered  INTEGER        0       None   0\n",
       "6    6            ended  INTEGER        0       None   0\n",
       "7    7  runtime_minutes  INTEGER        0       None   0\n",
       "8    8           genres  VARCHAR        0       None   0"
      ]
     },
     "metadata": {},
     "output_type": "display_data"
    },
    {
     "name": "stdout",
     "output_type": "stream",
     "text": [
      "____________________________________________________________________________________________________\n",
      "\n",
      "\n",
      "Esquema da tabela: akas\n"
     ]
    },
    {
     "data": {
      "text/html": [
       "<div>\n",
       "<style scoped>\n",
       "    .dataframe tbody tr th:only-of-type {\n",
       "        vertical-align: middle;\n",
       "    }\n",
       "\n",
       "    .dataframe tbody tr th {\n",
       "        vertical-align: top;\n",
       "    }\n",
       "\n",
       "    .dataframe thead th {\n",
       "        text-align: right;\n",
       "    }\n",
       "</style>\n",
       "<table border=\"1\" class=\"dataframe\">\n",
       "  <thead>\n",
       "    <tr style=\"text-align: right;\">\n",
       "      <th></th>\n",
       "      <th>cid</th>\n",
       "      <th>name</th>\n",
       "      <th>type</th>\n",
       "      <th>notnull</th>\n",
       "      <th>dflt_value</th>\n",
       "      <th>pk</th>\n",
       "    </tr>\n",
       "  </thead>\n",
       "  <tbody>\n",
       "    <tr>\n",
       "      <th>0</th>\n",
       "      <td>0</td>\n",
       "      <td>title_id</td>\n",
       "      <td>VARCHAR</td>\n",
       "      <td>0</td>\n",
       "      <td>None</td>\n",
       "      <td>0</td>\n",
       "    </tr>\n",
       "    <tr>\n",
       "      <th>1</th>\n",
       "      <td>1</td>\n",
       "      <td>title</td>\n",
       "      <td>VARCHAR</td>\n",
       "      <td>0</td>\n",
       "      <td>None</td>\n",
       "      <td>0</td>\n",
       "    </tr>\n",
       "    <tr>\n",
       "      <th>2</th>\n",
       "      <td>2</td>\n",
       "      <td>region</td>\n",
       "      <td>VARCHAR</td>\n",
       "      <td>0</td>\n",
       "      <td>None</td>\n",
       "      <td>0</td>\n",
       "    </tr>\n",
       "    <tr>\n",
       "      <th>3</th>\n",
       "      <td>3</td>\n",
       "      <td>language</td>\n",
       "      <td>VARCHAR</td>\n",
       "      <td>0</td>\n",
       "      <td>None</td>\n",
       "      <td>0</td>\n",
       "    </tr>\n",
       "    <tr>\n",
       "      <th>4</th>\n",
       "      <td>4</td>\n",
       "      <td>types</td>\n",
       "      <td>VARCHAR</td>\n",
       "      <td>0</td>\n",
       "      <td>None</td>\n",
       "      <td>0</td>\n",
       "    </tr>\n",
       "    <tr>\n",
       "      <th>5</th>\n",
       "      <td>5</td>\n",
       "      <td>attributes</td>\n",
       "      <td>VARCHAR</td>\n",
       "      <td>0</td>\n",
       "      <td>None</td>\n",
       "      <td>0</td>\n",
       "    </tr>\n",
       "    <tr>\n",
       "      <th>6</th>\n",
       "      <td>6</td>\n",
       "      <td>is_original_title</td>\n",
       "      <td>INTEGER</td>\n",
       "      <td>0</td>\n",
       "      <td>None</td>\n",
       "      <td>0</td>\n",
       "    </tr>\n",
       "  </tbody>\n",
       "</table>\n",
       "</div>"
      ],
      "text/plain": [
       "   cid               name     type  notnull dflt_value  pk\n",
       "0    0           title_id  VARCHAR        0       None   0\n",
       "1    1              title  VARCHAR        0       None   0\n",
       "2    2             region  VARCHAR        0       None   0\n",
       "3    3           language  VARCHAR        0       None   0\n",
       "4    4              types  VARCHAR        0       None   0\n",
       "5    5         attributes  VARCHAR        0       None   0\n",
       "6    6  is_original_title  INTEGER        0       None   0"
      ]
     },
     "metadata": {},
     "output_type": "display_data"
    },
    {
     "name": "stdout",
     "output_type": "stream",
     "text": [
      "____________________________________________________________________________________________________\n",
      "\n",
      "\n",
      "Esquema da tabela: crew\n"
     ]
    },
    {
     "data": {
      "text/html": [
       "<div>\n",
       "<style scoped>\n",
       "    .dataframe tbody tr th:only-of-type {\n",
       "        vertical-align: middle;\n",
       "    }\n",
       "\n",
       "    .dataframe tbody tr th {\n",
       "        vertical-align: top;\n",
       "    }\n",
       "\n",
       "    .dataframe thead th {\n",
       "        text-align: right;\n",
       "    }\n",
       "</style>\n",
       "<table border=\"1\" class=\"dataframe\">\n",
       "  <thead>\n",
       "    <tr style=\"text-align: right;\">\n",
       "      <th></th>\n",
       "      <th>cid</th>\n",
       "      <th>name</th>\n",
       "      <th>type</th>\n",
       "      <th>notnull</th>\n",
       "      <th>dflt_value</th>\n",
       "      <th>pk</th>\n",
       "    </tr>\n",
       "  </thead>\n",
       "  <tbody>\n",
       "    <tr>\n",
       "      <th>0</th>\n",
       "      <td>0</td>\n",
       "      <td>title_id</td>\n",
       "      <td>VARCHAR</td>\n",
       "      <td>0</td>\n",
       "      <td>None</td>\n",
       "      <td>0</td>\n",
       "    </tr>\n",
       "    <tr>\n",
       "      <th>1</th>\n",
       "      <td>1</td>\n",
       "      <td>person_id</td>\n",
       "      <td>VARCHAR</td>\n",
       "      <td>0</td>\n",
       "      <td>None</td>\n",
       "      <td>0</td>\n",
       "    </tr>\n",
       "    <tr>\n",
       "      <th>2</th>\n",
       "      <td>2</td>\n",
       "      <td>category</td>\n",
       "      <td>VARCHAR</td>\n",
       "      <td>0</td>\n",
       "      <td>None</td>\n",
       "      <td>0</td>\n",
       "    </tr>\n",
       "    <tr>\n",
       "      <th>3</th>\n",
       "      <td>3</td>\n",
       "      <td>job</td>\n",
       "      <td>VARCHAR</td>\n",
       "      <td>0</td>\n",
       "      <td>None</td>\n",
       "      <td>0</td>\n",
       "    </tr>\n",
       "    <tr>\n",
       "      <th>4</th>\n",
       "      <td>4</td>\n",
       "      <td>characters</td>\n",
       "      <td>VARCHAR</td>\n",
       "      <td>0</td>\n",
       "      <td>None</td>\n",
       "      <td>0</td>\n",
       "    </tr>\n",
       "  </tbody>\n",
       "</table>\n",
       "</div>"
      ],
      "text/plain": [
       "   cid        name     type  notnull dflt_value  pk\n",
       "0    0    title_id  VARCHAR        0       None   0\n",
       "1    1   person_id  VARCHAR        0       None   0\n",
       "2    2    category  VARCHAR        0       None   0\n",
       "3    3         job  VARCHAR        0       None   0\n",
       "4    4  characters  VARCHAR        0       None   0"
      ]
     },
     "metadata": {},
     "output_type": "display_data"
    },
    {
     "name": "stdout",
     "output_type": "stream",
     "text": [
      "____________________________________________________________________________________________________\n",
      "\n",
      "\n",
      "Esquema da tabela: episodes\n"
     ]
    },
    {
     "data": {
      "text/html": [
       "<div>\n",
       "<style scoped>\n",
       "    .dataframe tbody tr th:only-of-type {\n",
       "        vertical-align: middle;\n",
       "    }\n",
       "\n",
       "    .dataframe tbody tr th {\n",
       "        vertical-align: top;\n",
       "    }\n",
       "\n",
       "    .dataframe thead th {\n",
       "        text-align: right;\n",
       "    }\n",
       "</style>\n",
       "<table border=\"1\" class=\"dataframe\">\n",
       "  <thead>\n",
       "    <tr style=\"text-align: right;\">\n",
       "      <th></th>\n",
       "      <th>cid</th>\n",
       "      <th>name</th>\n",
       "      <th>type</th>\n",
       "      <th>notnull</th>\n",
       "      <th>dflt_value</th>\n",
       "      <th>pk</th>\n",
       "    </tr>\n",
       "  </thead>\n",
       "  <tbody>\n",
       "    <tr>\n",
       "      <th>0</th>\n",
       "      <td>0</td>\n",
       "      <td>episode_title_id</td>\n",
       "      <td>INTEGER</td>\n",
       "      <td>0</td>\n",
       "      <td>None</td>\n",
       "      <td>0</td>\n",
       "    </tr>\n",
       "    <tr>\n",
       "      <th>1</th>\n",
       "      <td>1</td>\n",
       "      <td>show_title_id</td>\n",
       "      <td>INTEGER</td>\n",
       "      <td>0</td>\n",
       "      <td>None</td>\n",
       "      <td>0</td>\n",
       "    </tr>\n",
       "    <tr>\n",
       "      <th>2</th>\n",
       "      <td>2</td>\n",
       "      <td>season_number</td>\n",
       "      <td>INTEGER</td>\n",
       "      <td>0</td>\n",
       "      <td>None</td>\n",
       "      <td>0</td>\n",
       "    </tr>\n",
       "    <tr>\n",
       "      <th>3</th>\n",
       "      <td>3</td>\n",
       "      <td>eposide_number</td>\n",
       "      <td>INTEGER</td>\n",
       "      <td>0</td>\n",
       "      <td>None</td>\n",
       "      <td>0</td>\n",
       "    </tr>\n",
       "  </tbody>\n",
       "</table>\n",
       "</div>"
      ],
      "text/plain": [
       "   cid              name     type  notnull dflt_value  pk\n",
       "0    0  episode_title_id  INTEGER        0       None   0\n",
       "1    1     show_title_id  INTEGER        0       None   0\n",
       "2    2     season_number  INTEGER        0       None   0\n",
       "3    3    eposide_number  INTEGER        0       None   0"
      ]
     },
     "metadata": {},
     "output_type": "display_data"
    },
    {
     "name": "stdout",
     "output_type": "stream",
     "text": [
      "____________________________________________________________________________________________________\n",
      "\n",
      "\n",
      "Esquema da tabela: ratings\n"
     ]
    },
    {
     "data": {
      "text/html": [
       "<div>\n",
       "<style scoped>\n",
       "    .dataframe tbody tr th:only-of-type {\n",
       "        vertical-align: middle;\n",
       "    }\n",
       "\n",
       "    .dataframe tbody tr th {\n",
       "        vertical-align: top;\n",
       "    }\n",
       "\n",
       "    .dataframe thead th {\n",
       "        text-align: right;\n",
       "    }\n",
       "</style>\n",
       "<table border=\"1\" class=\"dataframe\">\n",
       "  <thead>\n",
       "    <tr style=\"text-align: right;\">\n",
       "      <th></th>\n",
       "      <th>cid</th>\n",
       "      <th>name</th>\n",
       "      <th>type</th>\n",
       "      <th>notnull</th>\n",
       "      <th>dflt_value</th>\n",
       "      <th>pk</th>\n",
       "    </tr>\n",
       "  </thead>\n",
       "  <tbody>\n",
       "    <tr>\n",
       "      <th>0</th>\n",
       "      <td>0</td>\n",
       "      <td>title_id</td>\n",
       "      <td>VARCHAR</td>\n",
       "      <td>0</td>\n",
       "      <td>None</td>\n",
       "      <td>1</td>\n",
       "    </tr>\n",
       "    <tr>\n",
       "      <th>1</th>\n",
       "      <td>1</td>\n",
       "      <td>rating</td>\n",
       "      <td>INTEGER</td>\n",
       "      <td>0</td>\n",
       "      <td>None</td>\n",
       "      <td>0</td>\n",
       "    </tr>\n",
       "    <tr>\n",
       "      <th>2</th>\n",
       "      <td>2</td>\n",
       "      <td>votes</td>\n",
       "      <td>INTEGER</td>\n",
       "      <td>0</td>\n",
       "      <td>None</td>\n",
       "      <td>0</td>\n",
       "    </tr>\n",
       "  </tbody>\n",
       "</table>\n",
       "</div>"
      ],
      "text/plain": [
       "   cid      name     type  notnull dflt_value  pk\n",
       "0    0  title_id  VARCHAR        0       None   1\n",
       "1    1    rating  INTEGER        0       None   0\n",
       "2    2     votes  INTEGER        0       None   0"
      ]
     },
     "metadata": {},
     "output_type": "display_data"
    },
    {
     "name": "stdout",
     "output_type": "stream",
     "text": [
      "____________________________________________________________________________________________________\n",
      "\n",
      "\n"
     ]
    }
   ],
   "source": [
    "# Vamos percorrer a lista de tabelas no banco de dados e extrair o esquema de cada uma\n",
    "for tabela in tabelas :\n",
    "    consulta = 'PRAGMA TABLE_INFO({})'.format(tabela)\n",
    "    resultado1 = pd.read_sql_query(consulta,conn) \n",
    "    print('Esquema da tabela:', tabela)\n",
    "    display(resultado1)\n",
    "    print(\"_\"*100)\n",
    "    print('\\n')\n",
    "    "
   ]
  },
  {
   "cell_type": "markdown",
   "id": "fb0f3c2c",
   "metadata": {},
   "source": [
    "Agora vamos começar começar as analises exploratorias de dados"
   ]
  },
  {
   "cell_type": "code",
   "execution_count": 13,
   "id": "0bf5de04",
   "metadata": {},
   "outputs": [],
   "source": [
    "# 1- Quais sao as categorias de filmes  mais comuns do IMDB?"
   ]
  },
  {
   "cell_type": "code",
   "execution_count": 14,
   "id": "3679ba1c",
   "metadata": {},
   "outputs": [],
   "source": [
    "# Criar a consulta no sql- SELECIONE TYPE = CATEGORIA COUNT= NUMERO DE REGISTROS, SE NAO COLAR AS COUNT RETORNAR EM (***)\n",
    "# FROM TITLES = TABELA A BUSCAR E GROUP BY = AGRUPAR POR TIPO\n",
    "consulta1 = '''SELECT type, COUNT(*) AS COUNT FROM titles GROUP BY TYPE'''"
   ]
  },
  {
   "cell_type": "code",
   "execution_count": 15,
   "id": "99d70cd7",
   "metadata": {},
   "outputs": [],
   "source": [
    "# Extrair o resultado\n",
    "resultado1= pd.read_sql_query(consulta1,conn)"
   ]
  },
  {
   "cell_type": "code",
   "execution_count": 16,
   "id": "094566f9",
   "metadata": {},
   "outputs": [
    {
     "data": {
      "text/html": [
       "<div>\n",
       "<style scoped>\n",
       "    .dataframe tbody tr th:only-of-type {\n",
       "        vertical-align: middle;\n",
       "    }\n",
       "\n",
       "    .dataframe tbody tr th {\n",
       "        vertical-align: top;\n",
       "    }\n",
       "\n",
       "    .dataframe thead th {\n",
       "        text-align: right;\n",
       "    }\n",
       "</style>\n",
       "<table border=\"1\" class=\"dataframe\">\n",
       "  <thead>\n",
       "    <tr style=\"text-align: right;\">\n",
       "      <th></th>\n",
       "      <th>type</th>\n",
       "      <th>COUNT</th>\n",
       "    </tr>\n",
       "  </thead>\n",
       "  <tbody>\n",
       "    <tr>\n",
       "      <th>0</th>\n",
       "      <td>movie</td>\n",
       "      <td>617619</td>\n",
       "    </tr>\n",
       "    <tr>\n",
       "      <th>1</th>\n",
       "      <td>short</td>\n",
       "      <td>882541</td>\n",
       "    </tr>\n",
       "    <tr>\n",
       "      <th>2</th>\n",
       "      <td>tvEpisode</td>\n",
       "      <td>6871485</td>\n",
       "    </tr>\n",
       "    <tr>\n",
       "      <th>3</th>\n",
       "      <td>tvMiniSeries</td>\n",
       "      <td>44596</td>\n",
       "    </tr>\n",
       "    <tr>\n",
       "      <th>4</th>\n",
       "      <td>tvMovie</td>\n",
       "      <td>137074</td>\n",
       "    </tr>\n",
       "    <tr>\n",
       "      <th>5</th>\n",
       "      <td>tvPilot</td>\n",
       "      <td>2</td>\n",
       "    </tr>\n",
       "    <tr>\n",
       "      <th>6</th>\n",
       "      <td>tvSeries</td>\n",
       "      <td>229177</td>\n",
       "    </tr>\n",
       "    <tr>\n",
       "      <th>7</th>\n",
       "      <td>tvShort</td>\n",
       "      <td>10628</td>\n",
       "    </tr>\n",
       "    <tr>\n",
       "      <th>8</th>\n",
       "      <td>tvSpecial</td>\n",
       "      <td>37840</td>\n",
       "    </tr>\n",
       "    <tr>\n",
       "      <th>9</th>\n",
       "      <td>video</td>\n",
       "      <td>263832</td>\n",
       "    </tr>\n",
       "    <tr>\n",
       "      <th>10</th>\n",
       "      <td>videoGame</td>\n",
       "      <td>31760</td>\n",
       "    </tr>\n",
       "  </tbody>\n",
       "</table>\n",
       "</div>"
      ],
      "text/plain": [
       "            type    COUNT\n",
       "0          movie   617619\n",
       "1          short   882541\n",
       "2      tvEpisode  6871485\n",
       "3   tvMiniSeries    44596\n",
       "4        tvMovie   137074\n",
       "5        tvPilot        2\n",
       "6       tvSeries   229177\n",
       "7        tvShort    10628\n",
       "8      tvSpecial    37840\n",
       "9          video   263832\n",
       "10     videoGame    31760"
      ]
     },
     "metadata": {},
     "output_type": "display_data"
    }
   ],
   "source": [
    "# Visualizar o resultado1\n",
    "\n",
    "display(resultado1)"
   ]
  },
  {
   "cell_type": "code",
   "execution_count": 17,
   "id": "ce34dae9",
   "metadata": {},
   "outputs": [],
   "source": [
    "# Vamos calcular percentual para cada tipo\n",
    "\n",
    "resultado1['percentual']= (resultado1['COUNT'] / resultado1['COUNT'].sum())*100"
   ]
  },
  {
   "cell_type": "code",
   "execution_count": 18,
   "id": "f335359a",
   "metadata": {},
   "outputs": [
    {
     "data": {
      "text/html": [
       "<div>\n",
       "<style scoped>\n",
       "    .dataframe tbody tr th:only-of-type {\n",
       "        vertical-align: middle;\n",
       "    }\n",
       "\n",
       "    .dataframe tbody tr th {\n",
       "        vertical-align: top;\n",
       "    }\n",
       "\n",
       "    .dataframe thead th {\n",
       "        text-align: right;\n",
       "    }\n",
       "</style>\n",
       "<table border=\"1\" class=\"dataframe\">\n",
       "  <thead>\n",
       "    <tr style=\"text-align: right;\">\n",
       "      <th></th>\n",
       "      <th>type</th>\n",
       "      <th>COUNT</th>\n",
       "      <th>percentual</th>\n",
       "    </tr>\n",
       "  </thead>\n",
       "  <tbody>\n",
       "    <tr>\n",
       "      <th>0</th>\n",
       "      <td>movie</td>\n",
       "      <td>617619</td>\n",
       "      <td>6.767275</td>\n",
       "    </tr>\n",
       "    <tr>\n",
       "      <th>1</th>\n",
       "      <td>short</td>\n",
       "      <td>882541</td>\n",
       "      <td>9.670035</td>\n",
       "    </tr>\n",
       "    <tr>\n",
       "      <th>2</th>\n",
       "      <td>tvEpisode</td>\n",
       "      <td>6871485</td>\n",
       "      <td>75.291123</td>\n",
       "    </tr>\n",
       "    <tr>\n",
       "      <th>3</th>\n",
       "      <td>tvMiniSeries</td>\n",
       "      <td>44596</td>\n",
       "      <td>0.488640</td>\n",
       "    </tr>\n",
       "    <tr>\n",
       "      <th>4</th>\n",
       "      <td>tvMovie</td>\n",
       "      <td>137074</td>\n",
       "      <td>1.501925</td>\n",
       "    </tr>\n",
       "    <tr>\n",
       "      <th>5</th>\n",
       "      <td>tvPilot</td>\n",
       "      <td>2</td>\n",
       "      <td>0.000022</td>\n",
       "    </tr>\n",
       "    <tr>\n",
       "      <th>6</th>\n",
       "      <td>tvSeries</td>\n",
       "      <td>229177</td>\n",
       "      <td>2.511101</td>\n",
       "    </tr>\n",
       "    <tr>\n",
       "      <th>7</th>\n",
       "      <td>tvShort</td>\n",
       "      <td>10628</td>\n",
       "      <td>0.116451</td>\n",
       "    </tr>\n",
       "    <tr>\n",
       "      <th>8</th>\n",
       "      <td>tvSpecial</td>\n",
       "      <td>37840</td>\n",
       "      <td>0.414614</td>\n",
       "    </tr>\n",
       "    <tr>\n",
       "      <th>9</th>\n",
       "      <td>video</td>\n",
       "      <td>263832</td>\n",
       "      <td>2.890817</td>\n",
       "    </tr>\n",
       "    <tr>\n",
       "      <th>10</th>\n",
       "      <td>videoGame</td>\n",
       "      <td>31760</td>\n",
       "      <td>0.347996</td>\n",
       "    </tr>\n",
       "  </tbody>\n",
       "</table>\n",
       "</div>"
      ],
      "text/plain": [
       "            type    COUNT  percentual\n",
       "0          movie   617619    6.767275\n",
       "1          short   882541    9.670035\n",
       "2      tvEpisode  6871485   75.291123\n",
       "3   tvMiniSeries    44596    0.488640\n",
       "4        tvMovie   137074    1.501925\n",
       "5        tvPilot        2    0.000022\n",
       "6       tvSeries   229177    2.511101\n",
       "7        tvShort    10628    0.116451\n",
       "8      tvSpecial    37840    0.414614\n",
       "9          video   263832    2.890817\n",
       "10     videoGame    31760    0.347996"
      ]
     },
     "metadata": {},
     "output_type": "display_data"
    }
   ],
   "source": [
    "# Visualizar resultado\n",
    "display(resultado1)"
   ]
  },
  {
   "cell_type": "code",
   "execution_count": 19,
   "id": "c1c48759",
   "metadata": {},
   "outputs": [],
   "source": [
    "# Vamos criar um gráfico com apenas 4 categorias:\n",
    "# As 3 categorias com mais títulos e 1 categoria com todo o restante\n",
    "\n",
    "# Cria um dicionário vazio\n",
    "others = {}\n",
    "\n",
    "# Filtra o percentual em 5% e soma o total\n",
    "others['COUNT'] = resultado1[resultado1['percentual'] < 5]['COUNT'].sum()\n",
    "\n",
    "# Grava o percentual\n",
    "others['percentual'] = resultado1[resultado1['percentual'] < 5]['percentual'].sum()\n",
    "\n",
    "# Ajusta o nome\n",
    "others['type'] = 'others'\n",
    "\n"
   ]
  },
  {
   "cell_type": "code",
   "execution_count": 20,
   "id": "c8944584",
   "metadata": {},
   "outputs": [
    {
     "data": {
      "text/plain": [
       "{'COUNT': 754909, 'percentual': 8.27156668332867, 'type': 'others'}"
      ]
     },
     "execution_count": 20,
     "metadata": {},
     "output_type": "execute_result"
    }
   ],
   "source": [
    "# Visualiza comando acima\n",
    "others"
   ]
  },
  {
   "cell_type": "code",
   "execution_count": 21,
   "id": "b271ff7e",
   "metadata": {},
   "outputs": [],
   "source": [
    "# Filtra o dataframe de resultado\n",
    "\n",
    "resultado1 = resultado1[resultado1['percentual']>5]"
   ]
  },
  {
   "cell_type": "code",
   "execution_count": 22,
   "id": "c444faa0",
   "metadata": {},
   "outputs": [],
   "source": [
    "# Append com o dataframe de outras categorias\n",
    "resultado1 = resultado1.append(others,ignore_index=True)"
   ]
  },
  {
   "cell_type": "code",
   "execution_count": 23,
   "id": "63dcbf2c",
   "metadata": {},
   "outputs": [],
   "source": [
    "# Ordenando resultado\n",
    "resultado1=resultado1.sort_values(by ='COUNT',ascending = False)"
   ]
  },
  {
   "cell_type": "code",
   "execution_count": 24,
   "id": "ebc4d1d9",
   "metadata": {},
   "outputs": [
    {
     "data": {
      "text/html": [
       "<div>\n",
       "<style scoped>\n",
       "    .dataframe tbody tr th:only-of-type {\n",
       "        vertical-align: middle;\n",
       "    }\n",
       "\n",
       "    .dataframe tbody tr th {\n",
       "        vertical-align: top;\n",
       "    }\n",
       "\n",
       "    .dataframe thead th {\n",
       "        text-align: right;\n",
       "    }\n",
       "</style>\n",
       "<table border=\"1\" class=\"dataframe\">\n",
       "  <thead>\n",
       "    <tr style=\"text-align: right;\">\n",
       "      <th></th>\n",
       "      <th>type</th>\n",
       "      <th>COUNT</th>\n",
       "      <th>percentual</th>\n",
       "    </tr>\n",
       "  </thead>\n",
       "  <tbody>\n",
       "    <tr>\n",
       "      <th>2</th>\n",
       "      <td>tvEpisode</td>\n",
       "      <td>6871485</td>\n",
       "      <td>75.291123</td>\n",
       "    </tr>\n",
       "    <tr>\n",
       "      <th>1</th>\n",
       "      <td>short</td>\n",
       "      <td>882541</td>\n",
       "      <td>9.670035</td>\n",
       "    </tr>\n",
       "    <tr>\n",
       "      <th>3</th>\n",
       "      <td>others</td>\n",
       "      <td>754909</td>\n",
       "      <td>8.271567</td>\n",
       "    </tr>\n",
       "    <tr>\n",
       "      <th>0</th>\n",
       "      <td>movie</td>\n",
       "      <td>617619</td>\n",
       "      <td>6.767275</td>\n",
       "    </tr>\n",
       "  </tbody>\n",
       "</table>\n",
       "</div>"
      ],
      "text/plain": [
       "        type    COUNT  percentual\n",
       "2  tvEpisode  6871485   75.291123\n",
       "1      short   882541    9.670035\n",
       "3     others   754909    8.271567\n",
       "0      movie   617619    6.767275"
      ]
     },
     "execution_count": 24,
     "metadata": {},
     "output_type": "execute_result"
    }
   ],
   "source": [
    "# Visualiza comando acima\n",
    "\n",
    "resultado1.head()\n"
   ]
  },
  {
   "cell_type": "code",
   "execution_count": 25,
   "id": "6df5b5a5",
   "metadata": {},
   "outputs": [],
   "source": [
    "# Agora vamso ajustar os labels\n",
    "\n",
    "labels=[str(resultado1['type'][i])+''+'['+str(round(resultado1['percentual'][i]))+'%'+']'for i in resultado1.index] # List Comprehension"
   ]
  },
  {
   "cell_type": "code",
   "execution_count": 26,
   "id": "fe961c28",
   "metadata": {},
   "outputs": [
    {
     "data": {
      "image/png": "[encoded data removed]",
      "text/plain": [
       "<Figure size 432x288 with 1 Axes>"
      ]
     },
     "metadata": {},
     "output_type": "display_data"
    }
   ],
   "source": [
    "# plot -aprsentar os graficos\n",
    "#Mapa de cores\n",
    "#http://matplotlib.org/stable/tutoriais /colors/colormaps.html\n",
    "cs = cm.Set3(np.arange(100))\n",
    "# cria a figura\n",
    "f= plt.figure()\n",
    "# pie plot\n",
    "plt.pie(resultado1['COUNT'],labeldistance=1, radius = 3 , colors = cs, wedgeprops=dict(width=0.8))\n",
    "plt.legend(labels,loc= 'center', prop ={'size':15})\n",
    "plt.title('Distribuição de Titulos', loc = 'center',fontdict = {'fontsize':20, 'fontweight':20})\n",
    "plt.show()"
   ]
  },
  {
   "cell_type": "markdown",
   "id": "c72f0207",
   "metadata": {},
   "source": [
    "2- Qual o numero de titulos por genero?Vamos verificar o numero de titulos por genero."
   ]
  },
  {
   "cell_type": "code",
   "execution_count": 27,
   "id": "ad6dfdcf",
   "metadata": {},
   "outputs": [],
   "source": [
    "# Vamos cria a consulta SQL\n",
    "consulta2='''SELECT genres, COUNT(*)FROM titles WHERE type='movie'GROUP BY genres'''"
   ]
  },
  {
   "cell_type": "code",
   "execution_count": 28,
   "id": "ae5143db",
   "metadata": {},
   "outputs": [],
   "source": [
    "# Resultado\n",
    "resultado2=pd.read_sql_query(consulta2,conn)"
   ]
  },
  {
   "cell_type": "code",
   "execution_count": 29,
   "id": "08686418",
   "metadata": {},
   "outputs": [
    {
     "data": {
      "text/html": [
       "<div>\n",
       "<style scoped>\n",
       "    .dataframe tbody tr th:only-of-type {\n",
       "        vertical-align: middle;\n",
       "    }\n",
       "\n",
       "    .dataframe tbody tr th {\n",
       "        vertical-align: top;\n",
       "    }\n",
       "\n",
       "    .dataframe thead th {\n",
       "        text-align: right;\n",
       "    }\n",
       "</style>\n",
       "<table border=\"1\" class=\"dataframe\">\n",
       "  <thead>\n",
       "    <tr style=\"text-align: right;\">\n",
       "      <th></th>\n",
       "      <th>genres</th>\n",
       "      <th>COUNT(*)</th>\n",
       "    </tr>\n",
       "  </thead>\n",
       "  <tbody>\n",
       "    <tr>\n",
       "      <th>0</th>\n",
       "      <td>Action</td>\n",
       "      <td>14138</td>\n",
       "    </tr>\n",
       "    <tr>\n",
       "      <th>1</th>\n",
       "      <td>Action,Adult</td>\n",
       "      <td>11</td>\n",
       "    </tr>\n",
       "    <tr>\n",
       "      <th>2</th>\n",
       "      <td>Action,Adult,Adventure</td>\n",
       "      <td>2</td>\n",
       "    </tr>\n",
       "    <tr>\n",
       "      <th>3</th>\n",
       "      <td>Action,Adult,Comedy</td>\n",
       "      <td>6</td>\n",
       "    </tr>\n",
       "    <tr>\n",
       "      <th>4</th>\n",
       "      <td>Action,Adult,Crime</td>\n",
       "      <td>9</td>\n",
       "    </tr>\n",
       "    <tr>\n",
       "      <th>...</th>\n",
       "      <td>...</td>\n",
       "      <td>...</td>\n",
       "    </tr>\n",
       "    <tr>\n",
       "      <th>1460</th>\n",
       "      <td>Thriller,Western</td>\n",
       "      <td>43</td>\n",
       "    </tr>\n",
       "    <tr>\n",
       "      <th>1461</th>\n",
       "      <td>War</td>\n",
       "      <td>1311</td>\n",
       "    </tr>\n",
       "    <tr>\n",
       "      <th>1462</th>\n",
       "      <td>War,Western</td>\n",
       "      <td>14</td>\n",
       "    </tr>\n",
       "    <tr>\n",
       "      <th>1463</th>\n",
       "      <td>Western</td>\n",
       "      <td>5085</td>\n",
       "    </tr>\n",
       "    <tr>\n",
       "      <th>1464</th>\n",
       "      <td>\\N</td>\n",
       "      <td>71678</td>\n",
       "    </tr>\n",
       "  </tbody>\n",
       "</table>\n",
       "<p>1465 rows × 2 columns</p>\n",
       "</div>"
      ],
      "text/plain": [
       "                      genres  COUNT(*)\n",
       "0                     Action     14138\n",
       "1               Action,Adult        11\n",
       "2     Action,Adult,Adventure         2\n",
       "3        Action,Adult,Comedy         6\n",
       "4         Action,Adult,Crime         9\n",
       "...                      ...       ...\n",
       "1460        Thriller,Western        43\n",
       "1461                     War      1311\n",
       "1462             War,Western        14\n",
       "1463                 Western      5085\n",
       "1464                      \\N     71678\n",
       "\n",
       "[1465 rows x 2 columns]"
      ]
     },
     "metadata": {},
     "output_type": "display_data"
    }
   ],
   "source": [
    "# Visualizar  resultado 2\n",
    "display(resultado2)"
   ]
  },
  {
   "cell_type": "code",
   "execution_count": 30,
   "id": "c7df94fb",
   "metadata": {},
   "outputs": [],
   "source": [
    "# Converte as strings para minusculo\n",
    "resultado2['genres']=resultado2['genres'].str.lower().values"
   ]
  },
  {
   "cell_type": "code",
   "execution_count": 31,
   "id": "b440e22f",
   "metadata": {},
   "outputs": [],
   "source": [
    "# Remove valores NA (ausentes)\n",
    "temp=resultado2['genres'].dropna()"
   ]
  },
  {
   "cell_type": "code",
   "execution_count": 32,
   "id": "d13f5129",
   "metadata": {},
   "outputs": [],
   "source": [
    "# Vamos criar um vetor usando expressão regular parafiltrar as strings\n",
    "# https://docs.python.org.3.9/library/re.html\n",
    "padrao='(?u)\\\\b[\\\\w-]+\\\\b'\n",
    "\n",
    "# https://scikit-learn.org/stable/modules/generated/sklearn.feature_extraction.text.CountVectorizer.html\n",
    "\n",
    "vetor= CountVectorizer (token_pattern = padrao , analyzer = 'word').fit(temp)    "
   ]
  },
  {
   "cell_type": "code",
   "execution_count": 33,
   "id": "b40d0495",
   "metadata": {},
   "outputs": [
    {
     "data": {
      "text/plain": [
       "sklearn.feature_extraction.text.CountVectorizer"
      ]
     },
     "execution_count": 33,
     "metadata": {},
     "output_type": "execute_result"
    }
   ],
   "source": [
    "type(vetor)"
   ]
  },
  {
   "cell_type": "code",
   "execution_count": 34,
   "id": "3710dd1f",
   "metadata": {},
   "outputs": [],
   "source": [
    "# Apliacando a vetorização ao dataset sem  valores NA\n",
    "bag_generos = vetor.transform(temp)"
   ]
  },
  {
   "cell_type": "code",
   "execution_count": 35,
   "id": "c1f80fd3",
   "metadata": {},
   "outputs": [
    {
     "data": {
      "text/plain": [
       "scipy.sparse.csr.csr_matrix"
      ]
     },
     "execution_count": 35,
     "metadata": {},
     "output_type": "execute_result"
    }
   ],
   "source": [
    "type(bag_generos)"
   ]
  },
  {
   "cell_type": "code",
   "execution_count": 36,
   "id": "9304500d",
   "metadata": {},
   "outputs": [],
   "source": [
    "# Retorna generos unicos\n",
    "generos_unicos=vetor.get_feature_names()"
   ]
  },
  {
   "cell_type": "code",
   "execution_count": 37,
   "id": "ecb69449",
   "metadata": {},
   "outputs": [],
   "source": [
    "# Criamos o dataframe de generos\n",
    "generos = pd.DataFrame(bag_generos.todense(),columns = generos_unicos,index = temp.index)"
   ]
  },
  {
   "cell_type": "code",
   "execution_count": 38,
   "id": "837f294c",
   "metadata": {},
   "outputs": [
    {
     "name": "stdout",
     "output_type": "stream",
     "text": [
      "<class 'pandas.core.frame.DataFrame'>\n",
      "Int64Index: 1465 entries, 0 to 1464\n",
      "Data columns (total 29 columns):\n",
      " #   Column       Non-Null Count  Dtype\n",
      "---  ------       --------------  -----\n",
      " 0   action       1465 non-null   int64\n",
      " 1   adult        1465 non-null   int64\n",
      " 2   adventure    1465 non-null   int64\n",
      " 3   animation    1465 non-null   int64\n",
      " 4   biography    1465 non-null   int64\n",
      " 5   comedy       1465 non-null   int64\n",
      " 6   crime        1465 non-null   int64\n",
      " 7   documentary  1465 non-null   int64\n",
      " 8   drama        1465 non-null   int64\n",
      " 9   family       1465 non-null   int64\n",
      " 10  fantasy      1465 non-null   int64\n",
      " 11  film-noir    1465 non-null   int64\n",
      " 12  game-show    1465 non-null   int64\n",
      " 13  history      1465 non-null   int64\n",
      " 14  horror       1465 non-null   int64\n",
      " 15  music        1465 non-null   int64\n",
      " 16  musical      1465 non-null   int64\n",
      " 17  mystery      1465 non-null   int64\n",
      " 18  n            1465 non-null   int64\n",
      " 19  news         1465 non-null   int64\n",
      " 20  reality-tv   1465 non-null   int64\n",
      " 21  romance      1465 non-null   int64\n",
      " 22  sci-fi       1465 non-null   int64\n",
      " 23  short        1465 non-null   int64\n",
      " 24  sport        1465 non-null   int64\n",
      " 25  talk-show    1465 non-null   int64\n",
      " 26  thriller     1465 non-null   int64\n",
      " 27  war          1465 non-null   int64\n",
      " 28  western      1465 non-null   int64\n",
      "dtypes: int64(29)\n",
      "memory usage: 343.4 KB\n"
     ]
    }
   ],
   "source": [
    "# Visualiza resultado generos\n",
    "generos.info()"
   ]
  },
  {
   "cell_type": "code",
   "execution_count": 39,
   "id": "8066ba5a",
   "metadata": {},
   "outputs": [],
   "source": [
    "# Apagar coluna N (drop)\n",
    "generos= generos.drop(columns='n', axis = 0 )"
   ]
  },
  {
   "cell_type": "code",
   "execution_count": 40,
   "id": "17d0721d",
   "metadata": {},
   "outputs": [],
   "source": [
    "# Calculando percentual\n",
    "generos_percentual = 100 * (generos.sum()).sort_values(ascending =False)/ generos.shape[0]"
   ]
  },
  {
   "cell_type": "code",
   "execution_count": 41,
   "id": "c6527844",
   "metadata": {},
   "outputs": [
    {
     "data": {
      "text/plain": [
       "drama          17.952218\n",
       "comedy         16.996587\n",
       "documentary    15.836177\n",
       "adventure      14.880546\n",
       "action         14.539249\n",
       "romance        13.310580\n",
       "crime          13.037543\n",
       "mystery        12.423208\n",
       "thriller       12.286689\n",
       "horror         12.218430\n",
       "fantasy        12.081911\n",
       "dtype: float64"
      ]
     },
     "execution_count": 41,
     "metadata": {},
     "output_type": "execute_result"
    }
   ],
   "source": [
    "# Visualiza generos percentual\n",
    "\n",
    "generos_percentual.head(11)"
   ]
  },
  {
   "cell_type": "code",
   "execution_count": 42,
   "id": "5d0f7bdf",
   "metadata": {},
   "outputs": [
    {
     "data": {
      "image/png": "[encoded data removed]",
      "text/plain": [
       "<Figure size 1152x576 with 1 Axes>"
      ]
     },
     "metadata": {},
     "output_type": "display_data"
    }
   ],
   "source": [
    "# plot \n",
    "plt.figure(figsize=(16,8))\n",
    "sns.barplot(x=generos_percentual.values, y = generos_percentual.index,orient = 'h', palette = 'terrain' )\n",
    "plt.ylabel('Genero')\n",
    "plt.xlabel('\\nPercentual de Filmes (%)')\n",
    "plt.title('\\nNumero (Percentual) Titulos por Gênero\\n')\n",
    "plt.show()"
   ]
  },
  {
   "cell_type": "markdown",
   "id": "7fc898ce",
   "metadata": {},
   "source": [
    "3- Qual a mediana de avaliação dos filmes por genero? verificando a mediana dos filmes por genero"
   ]
  },
  {
   "cell_type": "code",
   "execution_count": 43,
   "id": "11bda817",
   "metadata": {},
   "outputs": [],
   "source": [
    "# Vamos consulta o banco sql \n",
    "consulta3 = '''SELECT rating,genres FROM ratings JOIN titles ON ratings.title_id = titles.title_id\n",
    "                WHERE premiered <= 2022 AND type = 'movie'\n",
    "                '''"
   ]
  },
  {
   "cell_type": "code",
   "execution_count": 44,
   "id": "114764df",
   "metadata": {},
   "outputs": [],
   "source": [
    "resultado3 = pd.read_sql_query(consulta3,conn)"
   ]
  },
  {
   "cell_type": "code",
   "execution_count": 45,
   "id": "a131ccdd",
   "metadata": {},
   "outputs": [
    {
     "data": {
      "text/html": [
       "<div>\n",
       "<style scoped>\n",
       "    .dataframe tbody tr th:only-of-type {\n",
       "        vertical-align: middle;\n",
       "    }\n",
       "\n",
       "    .dataframe tbody tr th {\n",
       "        vertical-align: top;\n",
       "    }\n",
       "\n",
       "    .dataframe thead th {\n",
       "        text-align: right;\n",
       "    }\n",
       "</style>\n",
       "<table border=\"1\" class=\"dataframe\">\n",
       "  <thead>\n",
       "    <tr style=\"text-align: right;\">\n",
       "      <th></th>\n",
       "      <th>rating</th>\n",
       "      <th>genres</th>\n",
       "    </tr>\n",
       "  </thead>\n",
       "  <tbody>\n",
       "    <tr>\n",
       "      <th>0</th>\n",
       "      <td>5.3</td>\n",
       "      <td>Romance</td>\n",
       "    </tr>\n",
       "    <tr>\n",
       "      <th>1</th>\n",
       "      <td>4.5</td>\n",
       "      <td>\\N</td>\n",
       "    </tr>\n",
       "    <tr>\n",
       "      <th>2</th>\n",
       "      <td>6.0</td>\n",
       "      <td>Action,Adventure,Biography</td>\n",
       "    </tr>\n",
       "    <tr>\n",
       "      <th>3</th>\n",
       "      <td>4.7</td>\n",
       "      <td>Drama</td>\n",
       "    </tr>\n",
       "    <tr>\n",
       "      <th>4</th>\n",
       "      <td>4.5</td>\n",
       "      <td>Drama</td>\n",
       "    </tr>\n",
       "    <tr>\n",
       "      <th>...</th>\n",
       "      <td>...</td>\n",
       "      <td>...</td>\n",
       "    </tr>\n",
       "    <tr>\n",
       "      <th>280565</th>\n",
       "      <td>5.8</td>\n",
       "      <td>Thriller</td>\n",
       "    </tr>\n",
       "    <tr>\n",
       "      <th>280566</th>\n",
       "      <td>6.4</td>\n",
       "      <td>Drama,History</td>\n",
       "    </tr>\n",
       "    <tr>\n",
       "      <th>280567</th>\n",
       "      <td>3.8</td>\n",
       "      <td>Adventure,History,War</td>\n",
       "    </tr>\n",
       "    <tr>\n",
       "      <th>280568</th>\n",
       "      <td>8.3</td>\n",
       "      <td>Drama</td>\n",
       "    </tr>\n",
       "    <tr>\n",
       "      <th>280569</th>\n",
       "      <td>8.4</td>\n",
       "      <td>\\N</td>\n",
       "    </tr>\n",
       "  </tbody>\n",
       "</table>\n",
       "<p>280570 rows × 2 columns</p>\n",
       "</div>"
      ],
      "text/plain": [
       "        rating                      genres\n",
       "0          5.3                     Romance\n",
       "1          4.5                          \\N\n",
       "2          6.0  Action,Adventure,Biography\n",
       "3          4.7                       Drama\n",
       "4          4.5                       Drama\n",
       "...        ...                         ...\n",
       "280565     5.8                    Thriller\n",
       "280566     6.4               Drama,History\n",
       "280567     3.8       Adventure,History,War\n",
       "280568     8.3                       Drama\n",
       "280569     8.4                          \\N\n",
       "\n",
       "[280570 rows x 2 columns]"
      ]
     },
     "metadata": {},
     "output_type": "display_data"
    }
   ],
   "source": [
    "display(resultado3)"
   ]
  },
  {
   "cell_type": "code",
   "execution_count": 46,
   "id": "b4dea5fe",
   "metadata": {},
   "outputs": [],
   "source": [
    "# Vamos criar uma função para retornar os generos\n",
    "\n",
    "def retorna_generos(df):\n",
    "    df['genres']= df['genres'].str.lower().values\n",
    "    temp =df['genres'].dropna()\n",
    "    vetor= CountVectorizer (token_pattern = '(?u)\\\\b[\\\\w-]+\\\\b' , analyzer = 'word').fit(temp) \n",
    "    generos_unicos=vetor.get_feature_names()\n",
    "    generos_unicos=[genre for genre in generos_unicos if len (genre)> 1]\n",
    "    return generos_unicos"
   ]
  },
  {
   "cell_type": "code",
   "execution_count": 47,
   "id": "30049568",
   "metadata": {},
   "outputs": [],
   "source": [
    "# Aplica a funçao df\n",
    "generos_unicos = retorna_generos(resultado3)\n"
   ]
  },
  {
   "cell_type": "code",
   "execution_count": 48,
   "id": "9b7add40",
   "metadata": {},
   "outputs": [
    {
     "data": {
      "text/plain": [
       "['action',\n",
       " 'adult',\n",
       " 'adventure',\n",
       " 'animation',\n",
       " 'biography',\n",
       " 'comedy',\n",
       " 'crime',\n",
       " 'documentary',\n",
       " 'drama',\n",
       " 'family',\n",
       " 'fantasy',\n",
       " 'film-noir',\n",
       " 'game-show',\n",
       " 'history',\n",
       " 'horror',\n",
       " 'music',\n",
       " 'musical',\n",
       " 'mystery',\n",
       " 'news',\n",
       " 'reality-tv',\n",
       " 'romance',\n",
       " 'sci-fi',\n",
       " 'short',\n",
       " 'sport',\n",
       " 'talk-show',\n",
       " 'thriller',\n",
       " 'war',\n",
       " 'western']"
      ]
     },
     "metadata": {},
     "output_type": "display_data"
    }
   ],
   "source": [
    "# visualiza generos unicos\n",
    "\n",
    "display (generos_unicos )"
   ]
  },
  {
   "cell_type": "code",
   "execution_count": 49,
   "id": "f1518d56",
   "metadata": {},
   "outputs": [],
   "source": [
    "# Criar uma lista vazia\n",
    "\n",
    "generos_counts = []\n",
    "generos_ratings= []"
   ]
  },
  {
   "cell_type": "code",
   "execution_count": 50,
   "id": "7c38e1de",
   "metadata": {},
   "outputs": [],
   "source": [
    "# Loop\n",
    "for item in generos_unicos:\n",
    "    # Retorna contagem de filmes por genero\n",
    "    consulta = 'SELECT COUNT(rating)FROM ratings JOIN titles ON ratings.title_id =titles.title_id WHERE genres LIKE'+'\\''+'%'+item+'%'+'\\' AND type=\\'movie\\''\n",
    "    resultado = pd.read_sql_query(consulta,conn)\n",
    "    generos_counts.append(resultado.values[0][0])\n",
    "    \n",
    "    # retorna a avaliação de filmes por genero    \n",
    "    consulta='SELECT rating FROM ratings JOIN titles ON ratings.title_id = titles.title_id WHERE genres LIKE'+'\\''+'%'+item+'%'+'\\' AND type=\\'movie\\''\n",
    "    resultado =pd.read_sql_query(consulta,conn)\n",
    "    generos_ratings.append(np.median(resultado['rating']))\n",
    "    \n",
    "    "
   ]
  },
  {
   "cell_type": "code",
   "execution_count": 51,
   "id": "a4b2afa5",
   "metadata": {},
   "outputs": [],
   "source": [
    "# Prepara o dataframe final\n",
    "df_generos_ratings=pd.DataFrame()\n",
    "df_generos_ratings['genres']=generos_unicos\n",
    "df_generos_ratings['count']=generos_counts\n",
    "df_generos_ratings['rating'] =generos_ratings\n"
   ]
  },
  {
   "cell_type": "code",
   "execution_count": 52,
   "id": "08601590",
   "metadata": {},
   "outputs": [
    {
     "data": {
      "text/html": [
       "<div>\n",
       "<style scoped>\n",
       "    .dataframe tbody tr th:only-of-type {\n",
       "        vertical-align: middle;\n",
       "    }\n",
       "\n",
       "    .dataframe tbody tr th {\n",
       "        vertical-align: top;\n",
       "    }\n",
       "\n",
       "    .dataframe thead th {\n",
       "        text-align: right;\n",
       "    }\n",
       "</style>\n",
       "<table border=\"1\" class=\"dataframe\">\n",
       "  <thead>\n",
       "    <tr style=\"text-align: right;\">\n",
       "      <th></th>\n",
       "      <th>genres</th>\n",
       "      <th>count</th>\n",
       "      <th>rating</th>\n",
       "    </tr>\n",
       "  </thead>\n",
       "  <tbody>\n",
       "    <tr>\n",
       "      <th>0</th>\n",
       "      <td>action</td>\n",
       "      <td>29125</td>\n",
       "      <td>5.80</td>\n",
       "    </tr>\n",
       "    <tr>\n",
       "      <th>1</th>\n",
       "      <td>adult</td>\n",
       "      <td>4396</td>\n",
       "      <td>5.80</td>\n",
       "    </tr>\n",
       "    <tr>\n",
       "      <th>2</th>\n",
       "      <td>adventure</td>\n",
       "      <td>17609</td>\n",
       "      <td>6.00</td>\n",
       "    </tr>\n",
       "    <tr>\n",
       "      <th>3</th>\n",
       "      <td>animation</td>\n",
       "      <td>4828</td>\n",
       "      <td>6.60</td>\n",
       "    </tr>\n",
       "    <tr>\n",
       "      <th>4</th>\n",
       "      <td>biography</td>\n",
       "      <td>8568</td>\n",
       "      <td>7.00</td>\n",
       "    </tr>\n",
       "    <tr>\n",
       "      <th>5</th>\n",
       "      <td>comedy</td>\n",
       "      <td>69247</td>\n",
       "      <td>6.00</td>\n",
       "    </tr>\n",
       "    <tr>\n",
       "      <th>6</th>\n",
       "      <td>crime</td>\n",
       "      <td>23992</td>\n",
       "      <td>6.10</td>\n",
       "    </tr>\n",
       "    <tr>\n",
       "      <th>7</th>\n",
       "      <td>documentary</td>\n",
       "      <td>42144</td>\n",
       "      <td>7.30</td>\n",
       "    </tr>\n",
       "    <tr>\n",
       "      <th>8</th>\n",
       "      <td>drama</td>\n",
       "      <td>124232</td>\n",
       "      <td>6.30</td>\n",
       "    </tr>\n",
       "    <tr>\n",
       "      <th>9</th>\n",
       "      <td>family</td>\n",
       "      <td>10816</td>\n",
       "      <td>6.30</td>\n",
       "    </tr>\n",
       "    <tr>\n",
       "      <th>10</th>\n",
       "      <td>fantasy</td>\n",
       "      <td>8336</td>\n",
       "      <td>6.00</td>\n",
       "    </tr>\n",
       "    <tr>\n",
       "      <th>11</th>\n",
       "      <td>film-noir</td>\n",
       "      <td>796</td>\n",
       "      <td>6.50</td>\n",
       "    </tr>\n",
       "    <tr>\n",
       "      <th>12</th>\n",
       "      <td>game-show</td>\n",
       "      <td>6</td>\n",
       "      <td>5.95</td>\n",
       "    </tr>\n",
       "    <tr>\n",
       "      <th>13</th>\n",
       "      <td>history</td>\n",
       "      <td>7761</td>\n",
       "      <td>6.90</td>\n",
       "    </tr>\n",
       "    <tr>\n",
       "      <th>14</th>\n",
       "      <td>horror</td>\n",
       "      <td>19924</td>\n",
       "      <td>5.00</td>\n",
       "    </tr>\n",
       "    <tr>\n",
       "      <th>15</th>\n",
       "      <td>music</td>\n",
       "      <td>12770</td>\n",
       "      <td>6.50</td>\n",
       "    </tr>\n",
       "    <tr>\n",
       "      <th>16</th>\n",
       "      <td>musical</td>\n",
       "      <td>6279</td>\n",
       "      <td>6.20</td>\n",
       "    </tr>\n",
       "    <tr>\n",
       "      <th>17</th>\n",
       "      <td>mystery</td>\n",
       "      <td>10489</td>\n",
       "      <td>6.00</td>\n",
       "    </tr>\n",
       "    <tr>\n",
       "      <th>18</th>\n",
       "      <td>news</td>\n",
       "      <td>658</td>\n",
       "      <td>7.30</td>\n",
       "    </tr>\n",
       "    <tr>\n",
       "      <th>19</th>\n",
       "      <td>reality-tv</td>\n",
       "      <td>49</td>\n",
       "      <td>6.20</td>\n",
       "    </tr>\n",
       "  </tbody>\n",
       "</table>\n",
       "</div>"
      ],
      "text/plain": [
       "         genres   count  rating\n",
       "0        action   29125    5.80\n",
       "1         adult    4396    5.80\n",
       "2     adventure   17609    6.00\n",
       "3     animation    4828    6.60\n",
       "4     biography    8568    7.00\n",
       "5        comedy   69247    6.00\n",
       "6         crime   23992    6.10\n",
       "7   documentary   42144    7.30\n",
       "8         drama  124232    6.30\n",
       "9        family   10816    6.30\n",
       "10      fantasy    8336    6.00\n",
       "11    film-noir     796    6.50\n",
       "12    game-show       6    5.95\n",
       "13      history    7761    6.90\n",
       "14       horror   19924    5.00\n",
       "15        music   12770    6.50\n",
       "16      musical    6279    6.20\n",
       "17      mystery   10489    6.00\n",
       "18         news     658    7.30\n",
       "19   reality-tv      49    6.20"
      ]
     },
     "execution_count": 52,
     "metadata": {},
     "output_type": "execute_result"
    }
   ],
   "source": [
    "# Visualizar \n",
    "df_generos_ratings.head(20)"
   ]
  },
  {
   "cell_type": "code",
   "execution_count": 53,
   "id": "93f29def",
   "metadata": {},
   "outputs": [],
   "source": [
    "df_generos_ratings= df_generos_ratings.drop(index=18 )"
   ]
  },
  {
   "cell_type": "code",
   "execution_count": 54,
   "id": "b14a5c3b",
   "metadata": {},
   "outputs": [
    {
     "data": {
      "text/html": [
       "<div>\n",
       "<style scoped>\n",
       "    .dataframe tbody tr th:only-of-type {\n",
       "        vertical-align: middle;\n",
       "    }\n",
       "\n",
       "    .dataframe tbody tr th {\n",
       "        vertical-align: top;\n",
       "    }\n",
       "\n",
       "    .dataframe thead th {\n",
       "        text-align: right;\n",
       "    }\n",
       "</style>\n",
       "<table border=\"1\" class=\"dataframe\">\n",
       "  <thead>\n",
       "    <tr style=\"text-align: right;\">\n",
       "      <th></th>\n",
       "      <th>genres</th>\n",
       "      <th>count</th>\n",
       "      <th>rating</th>\n",
       "    </tr>\n",
       "  </thead>\n",
       "  <tbody>\n",
       "    <tr>\n",
       "      <th>0</th>\n",
       "      <td>action</td>\n",
       "      <td>29125</td>\n",
       "      <td>5.80</td>\n",
       "    </tr>\n",
       "    <tr>\n",
       "      <th>1</th>\n",
       "      <td>adult</td>\n",
       "      <td>4396</td>\n",
       "      <td>5.80</td>\n",
       "    </tr>\n",
       "    <tr>\n",
       "      <th>2</th>\n",
       "      <td>adventure</td>\n",
       "      <td>17609</td>\n",
       "      <td>6.00</td>\n",
       "    </tr>\n",
       "    <tr>\n",
       "      <th>3</th>\n",
       "      <td>animation</td>\n",
       "      <td>4828</td>\n",
       "      <td>6.60</td>\n",
       "    </tr>\n",
       "    <tr>\n",
       "      <th>4</th>\n",
       "      <td>biography</td>\n",
       "      <td>8568</td>\n",
       "      <td>7.00</td>\n",
       "    </tr>\n",
       "    <tr>\n",
       "      <th>5</th>\n",
       "      <td>comedy</td>\n",
       "      <td>69247</td>\n",
       "      <td>6.00</td>\n",
       "    </tr>\n",
       "    <tr>\n",
       "      <th>6</th>\n",
       "      <td>crime</td>\n",
       "      <td>23992</td>\n",
       "      <td>6.10</td>\n",
       "    </tr>\n",
       "    <tr>\n",
       "      <th>7</th>\n",
       "      <td>documentary</td>\n",
       "      <td>42144</td>\n",
       "      <td>7.30</td>\n",
       "    </tr>\n",
       "    <tr>\n",
       "      <th>8</th>\n",
       "      <td>drama</td>\n",
       "      <td>124232</td>\n",
       "      <td>6.30</td>\n",
       "    </tr>\n",
       "    <tr>\n",
       "      <th>9</th>\n",
       "      <td>family</td>\n",
       "      <td>10816</td>\n",
       "      <td>6.30</td>\n",
       "    </tr>\n",
       "    <tr>\n",
       "      <th>10</th>\n",
       "      <td>fantasy</td>\n",
       "      <td>8336</td>\n",
       "      <td>6.00</td>\n",
       "    </tr>\n",
       "    <tr>\n",
       "      <th>11</th>\n",
       "      <td>film-noir</td>\n",
       "      <td>796</td>\n",
       "      <td>6.50</td>\n",
       "    </tr>\n",
       "    <tr>\n",
       "      <th>12</th>\n",
       "      <td>game-show</td>\n",
       "      <td>6</td>\n",
       "      <td>5.95</td>\n",
       "    </tr>\n",
       "    <tr>\n",
       "      <th>13</th>\n",
       "      <td>history</td>\n",
       "      <td>7761</td>\n",
       "      <td>6.90</td>\n",
       "    </tr>\n",
       "    <tr>\n",
       "      <th>14</th>\n",
       "      <td>horror</td>\n",
       "      <td>19924</td>\n",
       "      <td>5.00</td>\n",
       "    </tr>\n",
       "    <tr>\n",
       "      <th>15</th>\n",
       "      <td>music</td>\n",
       "      <td>12770</td>\n",
       "      <td>6.50</td>\n",
       "    </tr>\n",
       "    <tr>\n",
       "      <th>16</th>\n",
       "      <td>musical</td>\n",
       "      <td>6279</td>\n",
       "      <td>6.20</td>\n",
       "    </tr>\n",
       "    <tr>\n",
       "      <th>17</th>\n",
       "      <td>mystery</td>\n",
       "      <td>10489</td>\n",
       "      <td>6.00</td>\n",
       "    </tr>\n",
       "    <tr>\n",
       "      <th>19</th>\n",
       "      <td>reality-tv</td>\n",
       "      <td>49</td>\n",
       "      <td>6.20</td>\n",
       "    </tr>\n",
       "    <tr>\n",
       "      <th>20</th>\n",
       "      <td>romance</td>\n",
       "      <td>31216</td>\n",
       "      <td>6.20</td>\n",
       "    </tr>\n",
       "  </tbody>\n",
       "</table>\n",
       "</div>"
      ],
      "text/plain": [
       "         genres   count  rating\n",
       "0        action   29125    5.80\n",
       "1         adult    4396    5.80\n",
       "2     adventure   17609    6.00\n",
       "3     animation    4828    6.60\n",
       "4     biography    8568    7.00\n",
       "5        comedy   69247    6.00\n",
       "6         crime   23992    6.10\n",
       "7   documentary   42144    7.30\n",
       "8         drama  124232    6.30\n",
       "9        family   10816    6.30\n",
       "10      fantasy    8336    6.00\n",
       "11    film-noir     796    6.50\n",
       "12    game-show       6    5.95\n",
       "13      history    7761    6.90\n",
       "14       horror   19924    5.00\n",
       "15        music   12770    6.50\n",
       "16      musical    6279    6.20\n",
       "17      mystery   10489    6.00\n",
       "19   reality-tv      49    6.20\n",
       "20      romance   31216    6.20"
      ]
     },
     "execution_count": 54,
     "metadata": {},
     "output_type": "execute_result"
    }
   ],
   "source": [
    "df_generos_ratings.head(20)"
   ]
  },
  {
   "cell_type": "code",
   "execution_count": 55,
   "id": "709af8e2",
   "metadata": {},
   "outputs": [],
   "source": [
    "df_generos_ratings = df_generos_ratings.sort_values(by='rating', ascending =False)"
   ]
  },
  {
   "cell_type": "code",
   "execution_count": 56,
   "id": "ec4c63d5",
   "metadata": {},
   "outputs": [
    {
     "data": {
      "image/png": "[encoded data removed]",
      "text/plain": [
       "<Figure size 1152x720 with 1 Axes>"
      ]
     },
     "metadata": {},
     "output_type": "display_data"
    }
   ],
   "source": [
    "# plot\n",
    "# Figura \n",
    "plt.figure(figsize=(16,10))\n",
    "\n",
    "# Barplot\n",
    "sns.barplot(y = df_generos_ratings.genres, x = df_generos_ratings.rating,orient = 'h')\n",
    "\n",
    "# Texto do grafico\n",
    "for i in range(len(df_generos_ratings.index)):\n",
    "       \n",
    "    plt.text(4.0,\n",
    "             i + 0.25,\n",
    "             str(df_generos_ratings['count'][df_generos_ratings.index[i]])+ 'filmes')\n",
    "    \n",
    "    plt.text(df_generos_ratings.rating[df_generos_ratings.index[i]],\n",
    "             i + 0.25,\n",
    "             round(df_generos_ratings['rating'][df_generos_ratings.index[i]],2))\n",
    "            \n",
    "plt.ylabel('Genero')\n",
    "plt.xlabel('Mediana da Avaliação')\n",
    "plt.title('\\nMediana de Avaliação por Genero\\n')\n",
    "plt.show()\n"
   ]
  },
  {
   "cell_type": "markdown",
   "id": "7a597cd9",
   "metadata": {},
   "source": [
    "4- Qual a mediana de avaliação dos filmes em relação ao ano de estreia?"
   ]
  },
  {
   "cell_type": "code",
   "execution_count": 57,
   "id": "59b42a12",
   "metadata": {},
   "outputs": [],
   "source": [
    "consulta4= '''\n",
    "           SELECT rating AS Rating,premiered FROM\n",
    "           ratings JOIN titles ON ratings.title_id=titles.title_id\n",
    "           WHERE premiered <= 2022 AND type = 'movie'\n",
    "           ORDER BY premiered'''"
   ]
  },
  {
   "cell_type": "code",
   "execution_count": 58,
   "id": "9dc441aa",
   "metadata": {},
   "outputs": [],
   "source": [
    "# Resultado da query\n",
    "\n",
    "resultado4 = pd.read_sql_query(consulta4,conn)"
   ]
  },
  {
   "cell_type": "code",
   "execution_count": 59,
   "id": "d4358d07",
   "metadata": {},
   "outputs": [
    {
     "data": {
      "text/html": [
       "<div>\n",
       "<style scoped>\n",
       "    .dataframe tbody tr th:only-of-type {\n",
       "        vertical-align: middle;\n",
       "    }\n",
       "\n",
       "    .dataframe tbody tr th {\n",
       "        vertical-align: top;\n",
       "    }\n",
       "\n",
       "    .dataframe thead th {\n",
       "        text-align: right;\n",
       "    }\n",
       "</style>\n",
       "<table border=\"1\" class=\"dataframe\">\n",
       "  <thead>\n",
       "    <tr style=\"text-align: right;\">\n",
       "      <th></th>\n",
       "      <th>Rating</th>\n",
       "      <th>premiered</th>\n",
       "    </tr>\n",
       "  </thead>\n",
       "  <tbody>\n",
       "    <tr>\n",
       "      <th>0</th>\n",
       "      <td>5.3</td>\n",
       "      <td>1894</td>\n",
       "    </tr>\n",
       "    <tr>\n",
       "      <th>1</th>\n",
       "      <td>6.7</td>\n",
       "      <td>1896</td>\n",
       "    </tr>\n",
       "    <tr>\n",
       "      <th>2</th>\n",
       "      <td>4.5</td>\n",
       "      <td>1897</td>\n",
       "    </tr>\n",
       "    <tr>\n",
       "      <th>3</th>\n",
       "      <td>4.0</td>\n",
       "      <td>1899</td>\n",
       "    </tr>\n",
       "    <tr>\n",
       "      <th>4</th>\n",
       "      <td>3.7</td>\n",
       "      <td>1899</td>\n",
       "    </tr>\n",
       "    <tr>\n",
       "      <th>...</th>\n",
       "      <td>...</td>\n",
       "      <td>...</td>\n",
       "    </tr>\n",
       "    <tr>\n",
       "      <th>280565</th>\n",
       "      <td>7.0</td>\n",
       "      <td>2022</td>\n",
       "    </tr>\n",
       "    <tr>\n",
       "      <th>280566</th>\n",
       "      <td>8.2</td>\n",
       "      <td>2022</td>\n",
       "    </tr>\n",
       "    <tr>\n",
       "      <th>280567</th>\n",
       "      <td>6.8</td>\n",
       "      <td>2022</td>\n",
       "    </tr>\n",
       "    <tr>\n",
       "      <th>280568</th>\n",
       "      <td>5.3</td>\n",
       "      <td>2022</td>\n",
       "    </tr>\n",
       "    <tr>\n",
       "      <th>280569</th>\n",
       "      <td>3.7</td>\n",
       "      <td>2022</td>\n",
       "    </tr>\n",
       "  </tbody>\n",
       "</table>\n",
       "<p>280570 rows × 2 columns</p>\n",
       "</div>"
      ],
      "text/plain": [
       "        Rating  premiered\n",
       "0          5.3       1894\n",
       "1          6.7       1896\n",
       "2          4.5       1897\n",
       "3          4.0       1899\n",
       "4          3.7       1899\n",
       "...        ...        ...\n",
       "280565     7.0       2022\n",
       "280566     8.2       2022\n",
       "280567     6.8       2022\n",
       "280568     5.3       2022\n",
       "280569     3.7       2022\n",
       "\n",
       "[280570 rows x 2 columns]"
      ]
     },
     "metadata": {},
     "output_type": "display_data"
    }
   ],
   "source": [
    "display(resultado4)"
   ]
  },
  {
   "cell_type": "code",
   "execution_count": 60,
   "id": "d86e7a82",
   "metadata": {},
   "outputs": [],
   "source": [
    "# Calculamos a mediana ao longo do tempo(anos)\n",
    "ratings = []\n",
    "for year in set (resultado4['premiered']):\n",
    "    ratings.append(np.median(resultado4[resultado4['premiered']==year]['Rating']))"
   ]
  },
  {
   "cell_type": "code",
   "execution_count": 61,
   "id": "d374794d",
   "metadata": {},
   "outputs": [
    {
     "data": {
      "text/plain": [
       "list"
      ]
     },
     "execution_count": 61,
     "metadata": {},
     "output_type": "execute_result"
    }
   ],
   "source": [
    "type(ratings)"
   ]
  },
  {
   "cell_type": "code",
   "execution_count": 62,
   "id": "4ab96c13",
   "metadata": {},
   "outputs": [
    {
     "data": {
      "text/plain": [
       "[6.7, 4.5, 3.85, 5.85, 6.2, 3.4, 4.6, 5.3, 4.55]"
      ]
     },
     "execution_count": 62,
     "metadata": {},
     "output_type": "execute_result"
    }
   ],
   "source": [
    "ratings[1:10]"
   ]
  },
  {
   "cell_type": "code",
   "execution_count": 63,
   "id": "316c4721",
   "metadata": {},
   "outputs": [],
   "source": [
    "# Lista anos \n",
    "anos= list(set(resultado4['premiered']))"
   ]
  },
  {
   "cell_type": "code",
   "execution_count": 64,
   "id": "a16fba4e",
   "metadata": {},
   "outputs": [
    {
     "data": {
      "text/plain": [
       "[1896, 1897, 1899, 1900, 1901, 1902, 1903, 1904, 1905]"
      ]
     },
     "execution_count": 64,
     "metadata": {},
     "output_type": "execute_result"
    }
   ],
   "source": [
    "anos[1:10]"
   ]
  },
  {
   "cell_type": "code",
   "execution_count": 65,
   "id": "e92b6816",
   "metadata": {},
   "outputs": [
    {
     "data": {
      "image/png": "[encoded data removed]",
      "text/plain": [
       "<Figure size 1152x576 with 1 Axes>"
      ]
     },
     "metadata": {},
     "output_type": "display_data"
    }
   ],
   "source": [
    "plt.figure(figsize = (16,8))\n",
    "plt.plot(anos,ratings)\n",
    "plt.xlabel('\\nAno')\n",
    "plt.ylabel('Mediana de Avaliação')\n",
    "plt.title('\\nMediana de Avaliação dos Filmes em Relaçao ao Ano de Estréia\\n')\n",
    "plt.show()"
   ]
  },
  {
   "cell_type": "markdown",
   "id": "fcfa7dec",
   "metadata": {},
   "source": [
    "5- Qual numero de filmes avaliados por genero em relação ao ano e estreia"
   ]
  },
  {
   "cell_type": "code",
   "execution_count": 68,
   "id": "6a0b1073",
   "metadata": {},
   "outputs": [],
   "source": [
    "consulta5 = '''\n",
    "            SELECT genres FROM titles'''"
   ]
  },
  {
   "cell_type": "code",
   "execution_count": 69,
   "id": "5d88dde7",
   "metadata": {},
   "outputs": [],
   "source": [
    "# Resultado\n",
    "resultado5 = pd.read_sql_query(consulta5, conn)"
   ]
  },
  {
   "cell_type": "code",
   "execution_count": 70,
   "id": "bded7c17",
   "metadata": {},
   "outputs": [
    {
     "data": {
      "text/html": [
       "<div>\n",
       "<style scoped>\n",
       "    .dataframe tbody tr th:only-of-type {\n",
       "        vertical-align: middle;\n",
       "    }\n",
       "\n",
       "    .dataframe tbody tr th {\n",
       "        vertical-align: top;\n",
       "    }\n",
       "\n",
       "    .dataframe thead th {\n",
       "        text-align: right;\n",
       "    }\n",
       "</style>\n",
       "<table border=\"1\" class=\"dataframe\">\n",
       "  <thead>\n",
       "    <tr style=\"text-align: right;\">\n",
       "      <th></th>\n",
       "      <th>genres</th>\n",
       "    </tr>\n",
       "  </thead>\n",
       "  <tbody>\n",
       "    <tr>\n",
       "      <th>0</th>\n",
       "      <td>Documentary,Short</td>\n",
       "    </tr>\n",
       "    <tr>\n",
       "      <th>1</th>\n",
       "      <td>Animation,Short</td>\n",
       "    </tr>\n",
       "    <tr>\n",
       "      <th>2</th>\n",
       "      <td>Animation,Comedy,Romance</td>\n",
       "    </tr>\n",
       "    <tr>\n",
       "      <th>3</th>\n",
       "      <td>Animation,Short</td>\n",
       "    </tr>\n",
       "    <tr>\n",
       "      <th>4</th>\n",
       "      <td>Comedy,Short</td>\n",
       "    </tr>\n",
       "    <tr>\n",
       "      <th>...</th>\n",
       "      <td>...</td>\n",
       "    </tr>\n",
       "    <tr>\n",
       "      <th>9126549</th>\n",
       "      <td>Action,Drama,Family</td>\n",
       "    </tr>\n",
       "    <tr>\n",
       "      <th>9126550</th>\n",
       "      <td>Action,Drama,Family</td>\n",
       "    </tr>\n",
       "    <tr>\n",
       "      <th>9126551</th>\n",
       "      <td>Action,Drama,Family</td>\n",
       "    </tr>\n",
       "    <tr>\n",
       "      <th>9126552</th>\n",
       "      <td>Short</td>\n",
       "    </tr>\n",
       "    <tr>\n",
       "      <th>9126553</th>\n",
       "      <td>Adventure,Animation,Comedy</td>\n",
       "    </tr>\n",
       "  </tbody>\n",
       "</table>\n",
       "<p>9126554 rows × 1 columns</p>\n",
       "</div>"
      ],
      "text/plain": [
       "                             genres\n",
       "0                 Documentary,Short\n",
       "1                   Animation,Short\n",
       "2          Animation,Comedy,Romance\n",
       "3                   Animation,Short\n",
       "4                      Comedy,Short\n",
       "...                             ...\n",
       "9126549         Action,Drama,Family\n",
       "9126550         Action,Drama,Family\n",
       "9126551         Action,Drama,Family\n",
       "9126552                       Short\n",
       "9126553  Adventure,Animation,Comedy\n",
       "\n",
       "[9126554 rows x 1 columns]"
      ]
     },
     "metadata": {},
     "output_type": "display_data"
    }
   ],
   "source": [
    "display (resultado5)"
   ]
  },
  {
   "cell_type": "code",
   "execution_count": 71,
   "id": "86a26b8f",
   "metadata": {},
   "outputs": [],
   "source": [
    "# Retorna generos unicos\n",
    "generos_unicos=retorna_generos(resultado5)\n"
   ]
  },
  {
   "cell_type": "code",
   "execution_count": 72,
   "id": "1a72279b",
   "metadata": {},
   "outputs": [
    {
     "data": {
      "text/plain": [
       "['action',\n",
       " 'adult',\n",
       " 'adventure',\n",
       " 'animation',\n",
       " 'biography',\n",
       " 'comedy',\n",
       " 'crime',\n",
       " 'documentary',\n",
       " 'drama',\n",
       " 'family',\n",
       " 'fantasy',\n",
       " 'film-noir',\n",
       " 'game-show',\n",
       " 'history',\n",
       " 'horror',\n",
       " 'music',\n",
       " 'musical',\n",
       " 'mystery',\n",
       " 'news',\n",
       " 'reality-tv',\n",
       " 'romance',\n",
       " 'sci-fi',\n",
       " 'short',\n",
       " 'sport',\n",
       " 'talk-show',\n",
       " 'thriller',\n",
       " 'war',\n",
       " 'western']"
      ]
     },
     "execution_count": 72,
     "metadata": {},
     "output_type": "execute_result"
    }
   ],
   "source": [
    "generos_unicos"
   ]
  },
  {
   "cell_type": "code",
   "execution_count": 73,
   "id": "ff6abde2",
   "metadata": {},
   "outputs": [],
   "source": [
    "# Agora fazemos a contagem\n",
    "genero_count=[]\n",
    "\n",
    "for item in generos_unicos:\n",
    "    consulta ='SELECT COUNT(*)COUNT FROM titles WHERE genreS LIKE'+'\\''+'%'+item+'%'+'\\'AND type=\\'movie\\'AND premiered <=2022'\n",
    "    resultado = pd.read_sql_query(consulta,conn)\n",
    "    genero_count.append(resultado['COUNT'].values[0])"
   ]
  },
  {
   "cell_type": "code",
   "execution_count": 74,
   "id": "974a392b",
   "metadata": {},
   "outputs": [],
   "source": [
    "# Prepara DataFrame\n",
    "df_genero_count = pd.DataFrame()\n",
    "df_genero_count['genre'] = generos_unicos\n",
    "df_genero_count['Count'] = genero_count"
   ]
  },
  {
   "cell_type": "code",
   "execution_count": 75,
   "id": "a37ef783",
   "metadata": {},
   "outputs": [],
   "source": [
    "# Calcula os tops 5\n",
    "\n",
    "df_genero_count = df_genero_count[df_genero_count['genre'] != 'n']\n",
    "df_genero_count = df_genero_count.sort_values(by = 'Count', ascending= False)\n",
    "top_generos= df_genero_count.head()['genre'].values\n"
   ]
  },
  {
   "cell_type": "code",
   "execution_count": 76,
   "id": "17bcb5d0",
   "metadata": {},
   "outputs": [
    {
     "data": {
      "image/png": "[encoded data removed]",
      "text/plain": [
       "<Figure size 1152x576 with 1 Axes>"
      ]
     },
     "metadata": {},
     "output_type": "display_data"
    }
   ],
   "source": [
    "# Plot\n",
    "# figura\n",
    "plt.figure(figsize = (16,8))\n",
    "\n",
    "# Loop plot\n",
    "for item in top_generos:\n",
    "    consulta ='SELECT COUNT(*)Number_of_movies, premiered Year FROM titles WHERE genres LIKE '+ '\\''+'%'+item+'%'+'\\' AND type=\\'movie\\' AND Year <=2022 GROUP BY Year' \n",
    "    resultado = pd.read_sql_query(consulta,conn)\n",
    "    plt.plot(resultado['Year'],resultado['Number_of_movies'])\n",
    "    \n",
    "plt.xlabel('\\nAno')\n",
    "plt.ylabel('Numeros de Filmes Avaliados')\n",
    "plt.title('\\nNumero de Filmes Avaliados Por Gênero Em Realçao ao Ano de Estréia\\n')\n",
    "plt.legend(labels = top_generos)\n",
    "plt.show()    \n",
    "    \n",
    "    \n",
    "    "
   ]
  },
  {
   "cell_type": "markdown",
   "id": "d1ca69bf",
   "metadata": {},
   "source": [
    "6- Qual o filme com maior tempo de duração ? calcule os percentis."
   ]
  },
  {
   "cell_type": "code",
   "execution_count": 82,
   "id": "3db3d713",
   "metadata": {},
   "outputs": [],
   "source": [
    "# Consulta bd SQL\n",
    "consulta6 = '''            \n",
    "                SELECT runtime_minutes Runtime\n",
    "                FROM titles\n",
    "                WHERE type ='movie' AND Runtime !='NaN'\n",
    "                '''\n",
    "\n"
   ]
  },
  {
   "cell_type": "code",
   "execution_count": 83,
   "id": "38033c6b",
   "metadata": {},
   "outputs": [],
   "source": [
    "#, Colocando consulta6 dentro de resultado6\n",
    "resultado6 = pd.read_sql_query(consulta6,conn)"
   ]
  },
  {
   "cell_type": "code",
   "execution_count": 84,
   "id": "12eea8cc",
   "metadata": {},
   "outputs": [
    {
     "data": {
      "text/html": [
       "<div>\n",
       "<style scoped>\n",
       "    .dataframe tbody tr th:only-of-type {\n",
       "        vertical-align: middle;\n",
       "    }\n",
       "\n",
       "    .dataframe tbody tr th {\n",
       "        vertical-align: top;\n",
       "    }\n",
       "\n",
       "    .dataframe thead th {\n",
       "        text-align: right;\n",
       "    }\n",
       "</style>\n",
       "<table border=\"1\" class=\"dataframe\">\n",
       "  <thead>\n",
       "    <tr style=\"text-align: right;\">\n",
       "      <th></th>\n",
       "      <th>Runtime</th>\n",
       "    </tr>\n",
       "  </thead>\n",
       "  <tbody>\n",
       "    <tr>\n",
       "      <th>0</th>\n",
       "      <td>45</td>\n",
       "    </tr>\n",
       "    <tr>\n",
       "      <th>1</th>\n",
       "      <td>100</td>\n",
       "    </tr>\n",
       "    <tr>\n",
       "      <th>2</th>\n",
       "      <td>70</td>\n",
       "    </tr>\n",
       "    <tr>\n",
       "      <th>3</th>\n",
       "      <td>90</td>\n",
       "    </tr>\n",
       "    <tr>\n",
       "      <th>4</th>\n",
       "      <td>120</td>\n",
       "    </tr>\n",
       "    <tr>\n",
       "      <th>...</th>\n",
       "      <td>...</td>\n",
       "    </tr>\n",
       "    <tr>\n",
       "      <th>389706</th>\n",
       "      <td>123</td>\n",
       "    </tr>\n",
       "    <tr>\n",
       "      <th>389707</th>\n",
       "      <td>57</td>\n",
       "    </tr>\n",
       "    <tr>\n",
       "      <th>389708</th>\n",
       "      <td>100</td>\n",
       "    </tr>\n",
       "    <tr>\n",
       "      <th>389709</th>\n",
       "      <td>116</td>\n",
       "    </tr>\n",
       "    <tr>\n",
       "      <th>389710</th>\n",
       "      <td>49</td>\n",
       "    </tr>\n",
       "  </tbody>\n",
       "</table>\n",
       "<p>389711 rows × 1 columns</p>\n",
       "</div>"
      ],
      "text/plain": [
       "        Runtime\n",
       "0            45\n",
       "1           100\n",
       "2            70\n",
       "3            90\n",
       "4           120\n",
       "...         ...\n",
       "389706      123\n",
       "389707       57\n",
       "389708      100\n",
       "389709      116\n",
       "389710       49\n",
       "\n",
       "[389711 rows x 1 columns]"
      ]
     },
     "metadata": {},
     "output_type": "display_data"
    }
   ],
   "source": [
    "# Mostrando resultado da consulta6\n",
    "display(resultado6)"
   ]
  },
  {
   "cell_type": "code",
   "execution_count": 85,
   "id": "91c907e3",
   "metadata": {},
   "outputs": [
    {
     "name": "stdout",
     "output_type": "stream",
     "text": [
      "0 percentil da duração (runtime)é:1.0\n",
      "1 percentil da duração (runtime)é:45.0\n",
      "2 percentil da duração (runtime)é:47.0\n",
      "3 percentil da duração (runtime)é:50.0\n",
      "4 percentil da duração (runtime)é:50.0\n",
      "5 percentil da duração (runtime)é:51.0\n",
      "6 percentil da duração (runtime)é:52.0\n",
      "7 percentil da duração (runtime)é:53.0\n",
      "8 percentil da duração (runtime)é:55.0\n",
      "9 percentil da duração (runtime)é:56.0\n",
      "10 percentil da duração (runtime)é:57.0\n",
      "11 percentil da duração (runtime)é:58.0\n",
      "12 percentil da duração (runtime)é:60.0\n",
      "13 percentil da duração (runtime)é:60.0\n",
      "14 percentil da duração (runtime)é:60.0\n",
      "15 percentil da duração (runtime)é:61.0\n",
      "16 percentil da duração (runtime)é:62.0\n",
      "17 percentil da duração (runtime)é:64.0\n",
      "18 percentil da duração (runtime)é:65.0\n",
      "19 percentil da duração (runtime)é:67.0\n",
      "20 percentil da duração (runtime)é:69.0\n",
      "21 percentil da duração (runtime)é:70.0\n",
      "22 percentil da duração (runtime)é:70.0\n",
      "23 percentil da duração (runtime)é:71.0\n",
      "24 percentil da duração (runtime)é:72.0\n",
      "25 percentil da duração (runtime)é:73.0\n",
      "26 percentil da duração (runtime)é:74.0\n",
      "27 percentil da duração (runtime)é:75.0\n",
      "28 percentil da duração (runtime)é:76.0\n",
      "29 percentil da duração (runtime)é:77.0\n",
      "30 percentil da duração (runtime)é:78.0\n",
      "31 percentil da duração (runtime)é:78.0\n",
      "32 percentil da duração (runtime)é:79.0\n",
      "33 percentil da duração (runtime)é:80.0\n",
      "34 percentil da duração (runtime)é:80.0\n",
      "35 percentil da duração (runtime)é:80.0\n",
      "36 percentil da duração (runtime)é:81.0\n",
      "37 percentil da duração (runtime)é:82.0\n",
      "38 percentil da duração (runtime)é:83.0\n",
      "39 percentil da duração (runtime)é:83.0\n",
      "40 percentil da duração (runtime)é:84.0\n",
      "41 percentil da duração (runtime)é:85.0\n",
      "42 percentil da duração (runtime)é:85.0\n",
      "43 percentil da duração (runtime)é:85.0\n",
      "44 percentil da duração (runtime)é:86.0\n",
      "45 percentil da duração (runtime)é:86.0\n",
      "46 percentil da duração (runtime)é:87.0\n",
      "47 percentil da duração (runtime)é:87.0\n",
      "48 percentil da duração (runtime)é:88.0\n",
      "49 percentil da duração (runtime)é:88.0\n",
      "50 percentil da duração (runtime)é:89.0\n",
      "51 percentil da duração (runtime)é:89.0\n",
      "52 percentil da duração (runtime)é:90.0\n",
      "53 percentil da duração (runtime)é:90.0\n",
      "54 percentil da duração (runtime)é:90.0\n",
      "55 percentil da duração (runtime)é:90.0\n",
      "56 percentil da duração (runtime)é:90.0\n",
      "57 percentil da duração (runtime)é:90.0\n",
      "58 percentil da duração (runtime)é:91.0\n",
      "59 percentil da duração (runtime)é:91.0\n",
      "60 percentil da duração (runtime)é:92.0\n",
      "61 percentil da duração (runtime)é:92.0\n",
      "62 percentil da duração (runtime)é:93.0\n",
      "63 percentil da duração (runtime)é:93.0\n",
      "64 percentil da duração (runtime)é:94.0\n",
      "65 percentil da duração (runtime)é:94.0\n",
      "66 percentil da duração (runtime)é:95.0\n",
      "67 percentil da duração (runtime)é:95.0\n",
      "68 percentil da duração (runtime)é:96.0\n",
      "69 percentil da duração (runtime)é:96.0\n",
      "70 percentil da duração (runtime)é:97.0\n",
      "71 percentil da duração (runtime)é:98.0\n",
      "72 percentil da duração (runtime)é:98.0\n",
      "73 percentil da duração (runtime)é:99.0\n",
      "74 percentil da duração (runtime)é:100.0\n",
      "75 percentil da duração (runtime)é:100.0\n",
      "76 percentil da duração (runtime)é:100.0\n",
      "77 percentil da duração (runtime)é:101.0\n",
      "78 percentil da duração (runtime)é:102.0\n",
      "79 percentil da duração (runtime)é:103.0\n",
      "80 percentil da duração (runtime)é:104.0\n",
      "81 percentil da duração (runtime)é:105.0\n",
      "82 percentil da duração (runtime)é:106.0\n",
      "83 percentil da duração (runtime)é:107.0\n",
      "84 percentil da duração (runtime)é:108.0\n",
      "85 percentil da duração (runtime)é:110.0\n",
      "86 percentil da duração (runtime)é:111.0\n",
      "87 percentil da duração (runtime)é:113.0\n",
      "88 percentil da duração (runtime)é:115.0\n",
      "89 percentil da duração (runtime)é:117.0\n",
      "90 percentil da duração (runtime)é:119.0\n",
      "91 percentil da duração (runtime)é:120.0\n",
      "92 percentil da duração (runtime)é:123.0\n",
      "93 percentil da duração (runtime)é:126.0\n",
      "94 percentil da duração (runtime)é:130.0\n",
      "95 percentil da duração (runtime)é:135.0\n",
      "96 percentil da duração (runtime)é:139.0\n",
      "97 percentil da duração (runtime)é:145.0\n",
      "98 percentil da duração (runtime)é:153.0\n",
      "99 percentil da duração (runtime)é:168.0\n",
      "100 percentil da duração (runtime)é:51420.0\n"
     ]
    }
   ],
   "source": [
    "# Loop para calculo dos percentis\n",
    "\n",
    "for i in range(101):\n",
    "    val = i\n",
    "    perc= round(np.percentile(resultado6['Runtime'].values,val),2)\n",
    "    print('{} percentil da duração (runtime)é:{}'. format(val,perc))\n",
    "    "
   ]
  },
  {
   "cell_type": "code",
   "execution_count": 95,
   "id": "47ad2c53",
   "metadata": {},
   "outputs": [],
   "source": [
    "# Refazendo a consulta e retornando o filme com maior duração , pois temos um outlier\n",
    "consulta6 = '''\n",
    "            SELECT runtime_minutes Runtime , primary_title\n",
    "            FROM titles\n",
    "            WHERE type='movie' AND Runtime != 'NaN'\n",
    "            ORDER BY Runtime DESC\n",
    "            LIMIT 1\n",
    "            '''"
   ]
  },
  {
   "cell_type": "code",
   "execution_count": 97,
   "id": "7debc814",
   "metadata": {},
   "outputs": [],
   "source": [
    "resultado6= pd.read_sql_query(consulta6,conn)"
   ]
  },
  {
   "cell_type": "code",
   "execution_count": 98,
   "id": "57981fa9",
   "metadata": {},
   "outputs": [
    {
     "data": {
      "text/html": [
       "<div>\n",
       "<style scoped>\n",
       "    .dataframe tbody tr th:only-of-type {\n",
       "        vertical-align: middle;\n",
       "    }\n",
       "\n",
       "    .dataframe tbody tr th {\n",
       "        vertical-align: top;\n",
       "    }\n",
       "\n",
       "    .dataframe thead th {\n",
       "        text-align: right;\n",
       "    }\n",
       "</style>\n",
       "<table border=\"1\" class=\"dataframe\">\n",
       "  <thead>\n",
       "    <tr style=\"text-align: right;\">\n",
       "      <th></th>\n",
       "      <th>Runtime</th>\n",
       "      <th>primary_title</th>\n",
       "    </tr>\n",
       "  </thead>\n",
       "  <tbody>\n",
       "    <tr>\n",
       "      <th>0</th>\n",
       "      <td>51420</td>\n",
       "      <td>Logistics</td>\n",
       "    </tr>\n",
       "  </tbody>\n",
       "</table>\n",
       "</div>"
      ],
      "text/plain": [
       "   Runtime primary_title\n",
       "0    51420     Logistics"
      ]
     },
     "execution_count": 98,
     "metadata": {},
     "output_type": "execute_result"
    }
   ],
   "source": [
    "resultado6"
   ]
  },
  {
   "cell_type": "markdown",
   "id": "17b408b9",
   "metadata": {},
   "source": [
    " Outlier realmente acontece devido ao filme existente de nome logistics que tem uma duração de 51420 minutos,se \n",
    "levar para um trabalho de machine learning , devemo sprimeiro averiguar se é o caso adiciona-lo"
   ]
  },
  {
   "cell_type": "markdown",
   "id": "5856fdc9",
   "metadata": {},
   "source": [
    "7- Qual relação entre duração e genero?"
   ]
  },
  {
   "cell_type": "code",
   "execution_count": 133,
   "id": "491703c3",
   "metadata": {},
   "outputs": [],
   "source": [
    "consulta7= '''\n",
    "            SELECT AVG(runtime_minutes)Runtime , genres \n",
    "            FROM titles\n",
    "            WHERE type='movie' AND runtime_minutes != 'NaN'\n",
    "            GROUP BY genres \n",
    "\n",
    "          '''"
   ]
  },
  {
   "cell_type": "code",
   "execution_count": 134,
   "id": "4810160d",
   "metadata": {},
   "outputs": [],
   "source": [
    "resultado7= pd.read_sql_query(consulta7, conn)"
   ]
  },
  {
   "cell_type": "code",
   "execution_count": 135,
   "id": "e21fe455",
   "metadata": {},
   "outputs": [],
   "source": [
    "generos_unicos =retorna_generos(resultado7)"
   ]
  },
  {
   "cell_type": "code",
   "execution_count": 143,
   "id": "be2cdcea",
   "metadata": {},
   "outputs": [],
   "source": [
    "# Calcula duração por genero\n",
    "genero_runtime=[]\n",
    "\n",
    "for item in generos_unicos :\n",
    "    consulta = 'SELECT runtime_minutes Runtime  FROM titles WHERE genres LIKE'+'\\''+'%'+item+'%'+'\\' AND type=\\'movie\\'AND Runtime!=\\'Nan\\''\n",
    "    resultado = pd.read_sql_query(consulta,conn)\n",
    "    genero_runtime.append(np.median(resultado['Runtime']))\n"
   ]
  },
  {
   "cell_type": "code",
   "execution_count": 144,
   "id": "3e422515",
   "metadata": {},
   "outputs": [],
   "source": [
    "# Prepara DataFrame\n",
    "df_genero_runtime = pd.DataFrame()\n",
    "df_genero_runtime['genre'] =generos_unicos\n",
    "df_genero_runtime['runtime'] = genero_runtime"
   ]
  },
  {
   "cell_type": "code",
   "execution_count": 145,
   "id": "1987bb65",
   "metadata": {},
   "outputs": [],
   "source": [
    "# Remove indice 18(news)\n",
    "df_genero_runtime=df_genero_runtime.drop(index=18)"
   ]
  },
  {
   "cell_type": "code",
   "execution_count": 146,
   "id": "6c916e6c",
   "metadata": {},
   "outputs": [],
   "source": [
    "# Ordena os dados\n",
    "df_genero_runtime= df_genero_runtime.sort_values(by = 'runtime', ascending=False)"
   ]
  },
  {
   "cell_type": "code",
   "execution_count": 147,
   "id": "e031242c",
   "metadata": {},
   "outputs": [
    {
     "data": {
      "text/html": [
       "<div>\n",
       "<style scoped>\n",
       "    .dataframe tbody tr th:only-of-type {\n",
       "        vertical-align: middle;\n",
       "    }\n",
       "\n",
       "    .dataframe tbody tr th {\n",
       "        vertical-align: top;\n",
       "    }\n",
       "\n",
       "    .dataframe thead th {\n",
       "        text-align: right;\n",
       "    }\n",
       "</style>\n",
       "<table border=\"1\" class=\"dataframe\">\n",
       "  <thead>\n",
       "    <tr style=\"text-align: right;\">\n",
       "      <th></th>\n",
       "      <th>genre</th>\n",
       "      <th>runtime</th>\n",
       "    </tr>\n",
       "  </thead>\n",
       "  <tbody>\n",
       "    <tr>\n",
       "      <th>20</th>\n",
       "      <td>romance</td>\n",
       "      <td>95.0</td>\n",
       "    </tr>\n",
       "    <tr>\n",
       "      <th>0</th>\n",
       "      <td>action</td>\n",
       "      <td>94.0</td>\n",
       "    </tr>\n",
       "    <tr>\n",
       "      <th>8</th>\n",
       "      <td>drama</td>\n",
       "      <td>93.0</td>\n",
       "    </tr>\n",
       "    <tr>\n",
       "      <th>16</th>\n",
       "      <td>musical</td>\n",
       "      <td>93.0</td>\n",
       "    </tr>\n",
       "    <tr>\n",
       "      <th>26</th>\n",
       "      <td>war</td>\n",
       "      <td>92.0</td>\n",
       "    </tr>\n",
       "    <tr>\n",
       "      <th>25</th>\n",
       "      <td>thriller</td>\n",
       "      <td>92.0</td>\n",
       "    </tr>\n",
       "    <tr>\n",
       "      <th>6</th>\n",
       "      <td>crime</td>\n",
       "      <td>92.0</td>\n",
       "    </tr>\n",
       "    <tr>\n",
       "      <th>5</th>\n",
       "      <td>comedy</td>\n",
       "      <td>91.0</td>\n",
       "    </tr>\n",
       "    <tr>\n",
       "      <th>17</th>\n",
       "      <td>mystery</td>\n",
       "      <td>91.0</td>\n",
       "    </tr>\n",
       "    <tr>\n",
       "      <th>15</th>\n",
       "      <td>music</td>\n",
       "      <td>90.0</td>\n",
       "    </tr>\n",
       "    <tr>\n",
       "      <th>23</th>\n",
       "      <td>sport</td>\n",
       "      <td>90.0</td>\n",
       "    </tr>\n",
       "    <tr>\n",
       "      <th>21</th>\n",
       "      <td>sci-fi</td>\n",
       "      <td>90.0</td>\n",
       "    </tr>\n",
       "    <tr>\n",
       "      <th>19</th>\n",
       "      <td>reality-tv</td>\n",
       "      <td>90.0</td>\n",
       "    </tr>\n",
       "    <tr>\n",
       "      <th>13</th>\n",
       "      <td>history</td>\n",
       "      <td>90.0</td>\n",
       "    </tr>\n",
       "    <tr>\n",
       "      <th>10</th>\n",
       "      <td>fantasy</td>\n",
       "      <td>90.0</td>\n",
       "    </tr>\n",
       "    <tr>\n",
       "      <th>2</th>\n",
       "      <td>adventure</td>\n",
       "      <td>90.0</td>\n",
       "    </tr>\n",
       "    <tr>\n",
       "      <th>9</th>\n",
       "      <td>family</td>\n",
       "      <td>89.0</td>\n",
       "    </tr>\n",
       "    <tr>\n",
       "      <th>14</th>\n",
       "      <td>horror</td>\n",
       "      <td>88.0</td>\n",
       "    </tr>\n",
       "    <tr>\n",
       "      <th>4</th>\n",
       "      <td>biography</td>\n",
       "      <td>87.0</td>\n",
       "    </tr>\n",
       "    <tr>\n",
       "      <th>11</th>\n",
       "      <td>film-noir</td>\n",
       "      <td>83.0</td>\n",
       "    </tr>\n",
       "    <tr>\n",
       "      <th>3</th>\n",
       "      <td>animation</td>\n",
       "      <td>81.0</td>\n",
       "    </tr>\n",
       "    <tr>\n",
       "      <th>1</th>\n",
       "      <td>adult</td>\n",
       "      <td>78.0</td>\n",
       "    </tr>\n",
       "    <tr>\n",
       "      <th>24</th>\n",
       "      <td>talk-show</td>\n",
       "      <td>75.0</td>\n",
       "    </tr>\n",
       "    <tr>\n",
       "      <th>7</th>\n",
       "      <td>documentary</td>\n",
       "      <td>74.0</td>\n",
       "    </tr>\n",
       "    <tr>\n",
       "      <th>27</th>\n",
       "      <td>western</td>\n",
       "      <td>70.0</td>\n",
       "    </tr>\n",
       "    <tr>\n",
       "      <th>12</th>\n",
       "      <td>game-show</td>\n",
       "      <td>55.0</td>\n",
       "    </tr>\n",
       "    <tr>\n",
       "      <th>22</th>\n",
       "      <td>short</td>\n",
       "      <td>18.0</td>\n",
       "    </tr>\n",
       "  </tbody>\n",
       "</table>\n",
       "</div>"
      ],
      "text/plain": [
       "          genre  runtime\n",
       "20      romance     95.0\n",
       "0        action     94.0\n",
       "8         drama     93.0\n",
       "16      musical     93.0\n",
       "26          war     92.0\n",
       "25     thriller     92.0\n",
       "6         crime     92.0\n",
       "5        comedy     91.0\n",
       "17      mystery     91.0\n",
       "15        music     90.0\n",
       "23        sport     90.0\n",
       "21       sci-fi     90.0\n",
       "19   reality-tv     90.0\n",
       "13      history     90.0\n",
       "10      fantasy     90.0\n",
       "2     adventure     90.0\n",
       "9        family     89.0\n",
       "14       horror     88.0\n",
       "4     biography     87.0\n",
       "11    film-noir     83.0\n",
       "3     animation     81.0\n",
       "1         adult     78.0\n",
       "24    talk-show     75.0\n",
       "7   documentary     74.0\n",
       "27      western     70.0\n",
       "12    game-show     55.0\n",
       "22        short     18.0"
      ]
     },
     "execution_count": 147,
     "metadata": {},
     "output_type": "execute_result"
    }
   ],
   "source": [
    "df_genero_runtime"
   ]
  },
  {
   "cell_type": "code",
   "execution_count": 148,
   "id": "0e44e1ff",
   "metadata": {},
   "outputs": [
    {
     "data": {
      "image/png": "[encoded data removed]",
      "text/plain": [
       "<Figure size 1152x576 with 1 Axes>"
      ]
     },
     "metadata": {},
     "output_type": "display_data"
    }
   ],
   "source": [
    "# Plot - Preparando grafico\n",
    "# Tamanho do grafico\n",
    "plt.figure(figsize=(16,8))\n",
    "\n",
    "# Bar plot\n",
    "sns.barplot(y = df_genero_runtime.genre, x = df_genero_runtime.runtime,orient = 'h')\n",
    "\n",
    "# Loop\n",
    "for i in range(len(df_genero_runtime.index)):\n",
    "    plt.text(df_genero_runtime.runtime[df_genero_runtime.index[i]],\n",
    "             i + 0.25,\n",
    "             round(df_genero_runtime['runtime'][df_genero_runtime.index[i]],2))\n",
    "\n",
    "plt.ylabel('Genero')\n",
    "plt.xlabel('\\nMediana de tempo de Duração(Minutos) ')\n",
    "plt.title ('\\nRelação Entre Duração e Genêro')\n",
    "plt.show()\n",
    "\n"
   ]
  },
  {
   "cell_type": "markdown",
   "id": "690fe7d2",
   "metadata": {},
   "source": [
    "8- Qual o numero de filmes produzidos? "
   ]
  },
  {
   "cell_type": "code",
   "execution_count": 193,
   "id": "21d7d08a",
   "metadata": {},
   "outputs": [],
   "source": [
    "# Vamos consultar novamente o BD sql\n",
    "\n",
    "consulta8='''\n",
    "           SELECT region, COUNT(*) Number_of_movies FROM\n",
    "           akas JOIN titles ON\n",
    "           akas.title_id=titles.title_id\n",
    "           WHERE region!='None'\n",
    "           AND type = \\'movie\\'\n",
    "           GROUP BY region\n",
    "\n",
    "         '''"
   ]
  },
  {
   "cell_type": "code",
   "execution_count": 194,
   "id": "1dcaa2b0",
   "metadata": {},
   "outputs": [],
   "source": [
    "resultado8 = pd.read_sql_query(consulta8,conn)"
   ]
  },
  {
   "cell_type": "code",
   "execution_count": 195,
   "id": "e79ec387",
   "metadata": {},
   "outputs": [
    {
     "data": {
      "text/html": [
       "<div>\n",
       "<style scoped>\n",
       "    .dataframe tbody tr th:only-of-type {\n",
       "        vertical-align: middle;\n",
       "    }\n",
       "\n",
       "    .dataframe tbody tr th {\n",
       "        vertical-align: top;\n",
       "    }\n",
       "\n",
       "    .dataframe thead th {\n",
       "        text-align: right;\n",
       "    }\n",
       "</style>\n",
       "<table border=\"1\" class=\"dataframe\">\n",
       "  <thead>\n",
       "    <tr style=\"text-align: right;\">\n",
       "      <th></th>\n",
       "      <th>region</th>\n",
       "      <th>Number_of_movies</th>\n",
       "    </tr>\n",
       "  </thead>\n",
       "  <tbody>\n",
       "    <tr>\n",
       "      <th>0</th>\n",
       "      <td>AD</td>\n",
       "      <td>21</td>\n",
       "    </tr>\n",
       "    <tr>\n",
       "      <th>1</th>\n",
       "      <td>AE</td>\n",
       "      <td>6897</td>\n",
       "    </tr>\n",
       "    <tr>\n",
       "      <th>2</th>\n",
       "      <td>AF</td>\n",
       "      <td>114</td>\n",
       "    </tr>\n",
       "    <tr>\n",
       "      <th>3</th>\n",
       "      <td>AG</td>\n",
       "      <td>12</td>\n",
       "    </tr>\n",
       "    <tr>\n",
       "      <th>4</th>\n",
       "      <td>AL</td>\n",
       "      <td>1295</td>\n",
       "    </tr>\n",
       "    <tr>\n",
       "      <th>...</th>\n",
       "      <td>...</td>\n",
       "      <td>...</td>\n",
       "    </tr>\n",
       "    <tr>\n",
       "      <th>229</th>\n",
       "      <td>YUCS</td>\n",
       "      <td>153</td>\n",
       "    </tr>\n",
       "    <tr>\n",
       "      <th>230</th>\n",
       "      <td>ZA</td>\n",
       "      <td>7554</td>\n",
       "    </tr>\n",
       "    <tr>\n",
       "      <th>231</th>\n",
       "      <td>ZM</td>\n",
       "      <td>15</td>\n",
       "    </tr>\n",
       "    <tr>\n",
       "      <th>232</th>\n",
       "      <td>ZRCD</td>\n",
       "      <td>2</td>\n",
       "    </tr>\n",
       "    <tr>\n",
       "      <th>233</th>\n",
       "      <td>ZW</td>\n",
       "      <td>54</td>\n",
       "    </tr>\n",
       "  </tbody>\n",
       "</table>\n",
       "<p>234 rows × 2 columns</p>\n",
       "</div>"
      ],
      "text/plain": [
       "    region  Number_of_movies\n",
       "0       AD                21\n",
       "1       AE              6897\n",
       "2       AF               114\n",
       "3       AG                12\n",
       "4       AL              1295\n",
       "..     ...               ...\n",
       "229   YUCS               153\n",
       "230     ZA              7554\n",
       "231     ZM                15\n",
       "232   ZRCD                 2\n",
       "233     ZW                54\n",
       "\n",
       "[234 rows x 2 columns]"
      ]
     },
     "metadata": {},
     "output_type": "display_data"
    }
   ],
   "source": [
    "display(resultado8)"
   ]
  },
  {
   "cell_type": "code",
   "execution_count": 196,
   "id": "ad3d8722",
   "metadata": {},
   "outputs": [
    {
     "data": {
      "text/plain": [
       "(234, 2)"
      ]
     },
     "execution_count": 196,
     "metadata": {},
     "output_type": "execute_result"
    }
   ],
   "source": [
    "# Shape\n",
    "resultado8.shape"
   ]
  },
  {
   "cell_type": "code",
   "execution_count": 197,
   "id": "a78958fc",
   "metadata": {},
   "outputs": [
    {
     "data": {
      "text/plain": [
       "234"
      ]
     },
     "execution_count": 197,
     "metadata": {},
     "output_type": "execute_result"
    }
   ],
   "source": [
    "# Numero de linhas \n",
    "resultado8.shape[0]"
   ]
  },
  {
   "cell_type": "code",
   "execution_count": 198,
   "id": "06c4d94e",
   "metadata": {},
   "outputs": [],
   "source": [
    "# Listas auxiliares\n",
    "nomes_paises=[]\n",
    "contagem=[]"
   ]
  },
  {
   "cell_type": "code",
   "execution_count": 199,
   "id": "87634143",
   "metadata": {},
   "outputs": [],
   "source": [
    "#loop para obter o país de acordo com codigo da região\n",
    "for i in range(resultado8.shape[0]):\n",
    "    try:\n",
    "        coun = resultado8['region'].values[i]\n",
    "        nomes_paises.append(pycountry.countries.get(alpha_2 = coun).name)\n",
    "        contagem.append(resultado8['Number_of_movies'].values[i])\n",
    "    except:\n",
    "        continue\n"
   ]
  },
  {
   "cell_type": "code",
   "execution_count": 200,
   "id": "8535b610",
   "metadata": {},
   "outputs": [],
   "source": [
    "# Prepara o DataFrame\n",
    "df_filmes_paises= pd.DataFrame()\n",
    "df_filmes_paises['country']= nomes_paises\n",
    "df_filmes_paises['Movie_Count']=contagem"
   ]
  },
  {
   "cell_type": "code",
   "execution_count": 201,
   "id": "26487ab5",
   "metadata": {},
   "outputs": [],
   "source": [
    "# Ordena Resultado\n",
    "df_filmes_paises=df_filmes_paises.sort_values(by = 'Movie_Count',ascending=False)"
   ]
  },
  {
   "cell_type": "code",
   "execution_count": 202,
   "id": "0a42b6d3",
   "metadata": {},
   "outputs": [
    {
     "data": {
      "text/html": [
       "<div>\n",
       "<style scoped>\n",
       "    .dataframe tbody tr th:only-of-type {\n",
       "        vertical-align: middle;\n",
       "    }\n",
       "\n",
       "    .dataframe tbody tr th {\n",
       "        vertical-align: top;\n",
       "    }\n",
       "\n",
       "    .dataframe thead th {\n",
       "        text-align: right;\n",
       "    }\n",
       "</style>\n",
       "<table border=\"1\" class=\"dataframe\">\n",
       "  <thead>\n",
       "    <tr style=\"text-align: right;\">\n",
       "      <th></th>\n",
       "      <th>country</th>\n",
       "      <th>Movie_Count</th>\n",
       "    </tr>\n",
       "  </thead>\n",
       "  <tbody>\n",
       "    <tr>\n",
       "      <th>199</th>\n",
       "      <td>United States</td>\n",
       "      <td>315433</td>\n",
       "    </tr>\n",
       "    <tr>\n",
       "      <th>65</th>\n",
       "      <td>United Kingdom</td>\n",
       "      <td>160734</td>\n",
       "    </tr>\n",
       "    <tr>\n",
       "      <th>96</th>\n",
       "      <td>Japan</td>\n",
       "      <td>92670</td>\n",
       "    </tr>\n",
       "    <tr>\n",
       "      <th>63</th>\n",
       "      <td>France</td>\n",
       "      <td>85812</td>\n",
       "    </tr>\n",
       "    <tr>\n",
       "      <th>89</th>\n",
       "      <td>India</td>\n",
       "      <td>84649</td>\n",
       "    </tr>\n",
       "    <tr>\n",
       "      <th>32</th>\n",
       "      <td>Canada</td>\n",
       "      <td>80552</td>\n",
       "    </tr>\n",
       "    <tr>\n",
       "      <th>47</th>\n",
       "      <td>Germany</td>\n",
       "      <td>72174</td>\n",
       "    </tr>\n",
       "    <tr>\n",
       "      <th>58</th>\n",
       "      <td>Spain</td>\n",
       "      <td>66778</td>\n",
       "    </tr>\n",
       "    <tr>\n",
       "      <th>26</th>\n",
       "      <td>Brazil</td>\n",
       "      <td>66277</td>\n",
       "    </tr>\n",
       "    <tr>\n",
       "      <th>93</th>\n",
       "      <td>Italy</td>\n",
       "      <td>66251</td>\n",
       "    </tr>\n",
       "  </tbody>\n",
       "</table>\n",
       "</div>"
      ],
      "text/plain": [
       "            country  Movie_Count\n",
       "199   United States       315433\n",
       "65   United Kingdom       160734\n",
       "96            Japan        92670\n",
       "63           France        85812\n",
       "89            India        84649\n",
       "32           Canada        80552\n",
       "47          Germany        72174\n",
       "58            Spain        66778\n",
       "26           Brazil        66277\n",
       "93            Italy        66251"
      ]
     },
     "execution_count": 202,
     "metadata": {},
     "output_type": "execute_result"
    }
   ],
   "source": [
    "# Visualizar\n",
    "df_filmes_paises.head(10)"
   ]
  },
  {
   "cell_type": "code",
   "execution_count": 203,
   "id": "c18dfdac",
   "metadata": {},
   "outputs": [
    {
     "data": {
      "image/png": "[encoded data removed]",
      "text/plain": [
       "<Figure size 1440x576 with 1 Axes>"
      ]
     },
     "metadata": {},
     "output_type": "display_data"
    }
   ],
   "source": [
    "# Plot\n",
    "# figura\n",
    "plt.figure(figsize = (20,8))\n",
    "\n",
    "# Barplot\n",
    "sns.barplot(y = df_filmes_paises[:20].country, x = df_filmes_paises[:20].Movie_Count,orient ='h')\n",
    "\n",
    "# Loop\n",
    "for i in range(0,20):\n",
    "    plt.text(df_filmes_paises.Movie_Count[df_filmes_paises.index[i]]-1,\n",
    "             i + 0.30,\n",
    "             round(df_filmes_paises['Movie_Count'][df_filmes_paises.index[i]],2))\n",
    "    \n",
    "plt.ylabel('Pais')\n",
    "plt.xlabel('\\nNumero de Filmes')\n",
    "plt.title ('\\nNumero de Filmes Produzidos Por País\\n')\n",
    "plt.show()\n",
    "  \n",
    "\n"
   ]
  },
  {
   "cell_type": "markdown",
   "id": "44a60b7d",
   "metadata": {},
   "source": [
    "9- Quais sao os tops 10 melhores filmes?"
   ]
  },
  {
   "cell_type": "code",
   "execution_count": 213,
   "id": "11901a09",
   "metadata": {},
   "outputs": [],
   "source": [
    "consulta9= '''\n",
    "            SELECT primary_title AS Movie_Name,genres,rating\n",
    "            FROM\n",
    "            Titles JOIN ratings\n",
    "            ON titles.title_id = ratings.title_id\n",
    "            WHERE titles.type = 'movie'AND ratings.votes <= 25000\n",
    "            ORDER BY rating DESC\n",
    "            LIMIT 10\n",
    "          '''"
   ]
  },
  {
   "cell_type": "code",
   "execution_count": 214,
   "id": "df56c139",
   "metadata": {},
   "outputs": [],
   "source": [
    "# Resultado\n",
    "\n",
    "top10_melhores_filmes =pd.read_sql_query(consulta9,conn)"
   ]
  },
  {
   "cell_type": "code",
   "execution_count": 215,
   "id": "f0212443",
   "metadata": {},
   "outputs": [
    {
     "data": {
      "text/html": [
       "<div>\n",
       "<style scoped>\n",
       "    .dataframe tbody tr th:only-of-type {\n",
       "        vertical-align: middle;\n",
       "    }\n",
       "\n",
       "    .dataframe tbody tr th {\n",
       "        vertical-align: top;\n",
       "    }\n",
       "\n",
       "    .dataframe thead th {\n",
       "        text-align: right;\n",
       "    }\n",
       "</style>\n",
       "<table border=\"1\" class=\"dataframe\">\n",
       "  <thead>\n",
       "    <tr style=\"text-align: right;\">\n",
       "      <th></th>\n",
       "      <th>Movie_Name</th>\n",
       "      <th>genres</th>\n",
       "      <th>rating</th>\n",
       "    </tr>\n",
       "  </thead>\n",
       "  <tbody>\n",
       "    <tr>\n",
       "      <th>0</th>\n",
       "      <td>The Shawshank Redemption</td>\n",
       "      <td>Drama</td>\n",
       "      <td>9.3</td>\n",
       "    </tr>\n",
       "    <tr>\n",
       "      <th>1</th>\n",
       "      <td>The Godfather</td>\n",
       "      <td>Crime,Drama</td>\n",
       "      <td>9.2</td>\n",
       "    </tr>\n",
       "    <tr>\n",
       "      <th>2</th>\n",
       "      <td>The Chaos Class</td>\n",
       "      <td>Comedy,Drama</td>\n",
       "      <td>9.2</td>\n",
       "    </tr>\n",
       "    <tr>\n",
       "      <th>3</th>\n",
       "      <td>CM101MMXI Fundamentals</td>\n",
       "      <td>Comedy,Documentary</td>\n",
       "      <td>9.1</td>\n",
       "    </tr>\n",
       "    <tr>\n",
       "      <th>4</th>\n",
       "      <td>Rocketry: The Nambi Effect</td>\n",
       "      <td>Biography,Drama</td>\n",
       "      <td>9.1</td>\n",
       "    </tr>\n",
       "    <tr>\n",
       "      <th>5</th>\n",
       "      <td>12 Angry Men</td>\n",
       "      <td>Crime,Drama</td>\n",
       "      <td>9.0</td>\n",
       "    </tr>\n",
       "    <tr>\n",
       "      <th>6</th>\n",
       "      <td>The Godfather Part II</td>\n",
       "      <td>Crime,Drama</td>\n",
       "      <td>9.0</td>\n",
       "    </tr>\n",
       "    <tr>\n",
       "      <th>7</th>\n",
       "      <td>Schindler's List</td>\n",
       "      <td>Biography,Drama,History</td>\n",
       "      <td>9.0</td>\n",
       "    </tr>\n",
       "    <tr>\n",
       "      <th>8</th>\n",
       "      <td>The Lord of the Rings: The Return of the King</td>\n",
       "      <td>Action,Adventure,Drama</td>\n",
       "      <td>9.0</td>\n",
       "    </tr>\n",
       "    <tr>\n",
       "      <th>9</th>\n",
       "      <td>The Dark Knight</td>\n",
       "      <td>Action,Crime,Drama</td>\n",
       "      <td>9.0</td>\n",
       "    </tr>\n",
       "  </tbody>\n",
       "</table>\n",
       "</div>"
      ],
      "text/plain": [
       "                                      Movie_Name                   genres  \\\n",
       "0                       The Shawshank Redemption                    Drama   \n",
       "1                                  The Godfather              Crime,Drama   \n",
       "2                                The Chaos Class             Comedy,Drama   \n",
       "3                         CM101MMXI Fundamentals       Comedy,Documentary   \n",
       "4                     Rocketry: The Nambi Effect          Biography,Drama   \n",
       "5                                   12 Angry Men              Crime,Drama   \n",
       "6                          The Godfather Part II              Crime,Drama   \n",
       "7                               Schindler's List  Biography,Drama,History   \n",
       "8  The Lord of the Rings: The Return of the King   Action,Adventure,Drama   \n",
       "9                                The Dark Knight       Action,Crime,Drama   \n",
       "\n",
       "   rating  \n",
       "0     9.3  \n",
       "1     9.2  \n",
       "2     9.2  \n",
       "3     9.1  \n",
       "4     9.1  \n",
       "5     9.0  \n",
       "6     9.0  \n",
       "7     9.0  \n",
       "8     9.0  \n",
       "9     9.0  "
      ]
     },
     "metadata": {},
     "output_type": "display_data"
    }
   ],
   "source": [
    "# Mostrando resultado\n",
    "display(top10_melhores_filmes)"
   ]
  },
  {
   "cell_type": "markdown",
   "id": "e43bfe7c",
   "metadata": {},
   "source": [
    " 10-Quais sao os 10 piores filmes?"
   ]
  },
  {
   "cell_type": "code",
   "execution_count": 224,
   "id": "5debe23f",
   "metadata": {},
   "outputs": [],
   "source": [
    "consulta10 = '''\n",
    "            SELECT primary_title AS Movie_Name,genres,rating\n",
    "            FROM\n",
    "            Titles JOIN ratings\n",
    "            ON titles.title_id = ratings.title_id\n",
    "            WHERE titles.type = 'movie'AND ratings.votes >= 25000\n",
    "            ORDER BY rating ASC\n",
    "            LIMIT 10\n",
    "          '''"
   ]
  },
  {
   "cell_type": "code",
   "execution_count": 225,
   "id": "1aec8da1",
   "metadata": {},
   "outputs": [],
   "source": [
    "# Resultado\n",
    "\n",
    "top10_piores_filmes =pd.read_sql_query(consulta10,conn)"
   ]
  },
  {
   "cell_type": "code",
   "execution_count": 226,
   "id": "0d1d19f8",
   "metadata": {},
   "outputs": [
    {
     "data": {
      "text/html": [
       "<div>\n",
       "<style scoped>\n",
       "    .dataframe tbody tr th:only-of-type {\n",
       "        vertical-align: middle;\n",
       "    }\n",
       "\n",
       "    .dataframe tbody tr th {\n",
       "        vertical-align: top;\n",
       "    }\n",
       "\n",
       "    .dataframe thead th {\n",
       "        text-align: right;\n",
       "    }\n",
       "</style>\n",
       "<table border=\"1\" class=\"dataframe\">\n",
       "  <thead>\n",
       "    <tr style=\"text-align: right;\">\n",
       "      <th></th>\n",
       "      <th>Movie_Name</th>\n",
       "      <th>genres</th>\n",
       "      <th>rating</th>\n",
       "    </tr>\n",
       "  </thead>\n",
       "  <tbody>\n",
       "    <tr>\n",
       "      <th>0</th>\n",
       "      <td>Reis</td>\n",
       "      <td>Biography,Drama</td>\n",
       "      <td>1.0</td>\n",
       "    </tr>\n",
       "    <tr>\n",
       "      <th>1</th>\n",
       "      <td>Cumali Ceber</td>\n",
       "      <td>Comedy</td>\n",
       "      <td>1.0</td>\n",
       "    </tr>\n",
       "    <tr>\n",
       "      <th>2</th>\n",
       "      <td>Sadak 2</td>\n",
       "      <td>Action,Drama</td>\n",
       "      <td>1.1</td>\n",
       "    </tr>\n",
       "    <tr>\n",
       "      <th>3</th>\n",
       "      <td>Smolensk</td>\n",
       "      <td>Drama,Thriller</td>\n",
       "      <td>1.2</td>\n",
       "    </tr>\n",
       "    <tr>\n",
       "      <th>4</th>\n",
       "      <td>Superbabies: Baby Geniuses 2</td>\n",
       "      <td>Comedy,Family,Sci-Fi</td>\n",
       "      <td>1.5</td>\n",
       "    </tr>\n",
       "    <tr>\n",
       "      <th>5</th>\n",
       "      <td>The Cost of Deception</td>\n",
       "      <td>Crime,Drama,History</td>\n",
       "      <td>1.5</td>\n",
       "    </tr>\n",
       "    <tr>\n",
       "      <th>6</th>\n",
       "      <td>Manos: The Hands of Fate</td>\n",
       "      <td>Horror</td>\n",
       "      <td>1.6</td>\n",
       "    </tr>\n",
       "    <tr>\n",
       "      <th>7</th>\n",
       "      <td>Justin Bieber: Never Say Never</td>\n",
       "      <td>Documentary,Music</td>\n",
       "      <td>1.6</td>\n",
       "    </tr>\n",
       "    <tr>\n",
       "      <th>8</th>\n",
       "      <td>From Justin to Kelly</td>\n",
       "      <td>Comedy,Musical,Romance</td>\n",
       "      <td>1.9</td>\n",
       "    </tr>\n",
       "    <tr>\n",
       "      <th>9</th>\n",
       "      <td>The Hottie &amp; the Nottie</td>\n",
       "      <td>Comedy,Romance</td>\n",
       "      <td>1.9</td>\n",
       "    </tr>\n",
       "  </tbody>\n",
       "</table>\n",
       "</div>"
      ],
      "text/plain": [
       "                       Movie_Name                  genres  rating\n",
       "0                            Reis         Biography,Drama     1.0\n",
       "1                    Cumali Ceber                  Comedy     1.0\n",
       "2                         Sadak 2            Action,Drama     1.1\n",
       "3                        Smolensk          Drama,Thriller     1.2\n",
       "4    Superbabies: Baby Geniuses 2    Comedy,Family,Sci-Fi     1.5\n",
       "5           The Cost of Deception     Crime,Drama,History     1.5\n",
       "6        Manos: The Hands of Fate                  Horror     1.6\n",
       "7  Justin Bieber: Never Say Never       Documentary,Music     1.6\n",
       "8            From Justin to Kelly  Comedy,Musical,Romance     1.9\n",
       "9         The Hottie & the Nottie          Comedy,Romance     1.9"
      ]
     },
     "metadata": {},
     "output_type": "display_data"
    }
   ],
   "source": [
    "# Mostrando resultado\n",
    "display(top10_piores_filmes)"
   ]
  },
  {
   "cell_type": "code",
   "execution_count": null,
   "id": "b3f6df88",
   "metadata": {},
   "outputs": [],
   "source": []
  },
  {
   "cell_type": "code",
   "execution_count": null,
   "id": "64ff2ca8",
   "metadata": {},
   "outputs": [],
   "source": []
  },
  {
   "cell_type": "code",
   "execution_count": null,
   "id": "a0dd5948",
   "metadata": {},
   "outputs": [],
   "source": []
  },
  {
   "cell_type": "code",
   "execution_count": null,
   "id": "04ff97d2",
   "metadata": {},
   "outputs": [],
   "source": []
  }
 ],
 "metadata": {
  "kernelspec": {
   "display_name": "Python 3 (ipykernel)",
   "language": "python",
   "name": "python3"
  },
  "language_info": {
   "codemirror_mode": {
    "name": "ipython",
    "version": 3
   },
   "file_extension": ".py",
   "mimetype": "text/x-python",
   "name": "python",
   "nbconvert_exporter": "python",
   "pygments_lexer": "ipython3",
   "version": "3.9.12"
  }
 },
 "nbformat": 4,
 "nbformat_minor": 5
}
